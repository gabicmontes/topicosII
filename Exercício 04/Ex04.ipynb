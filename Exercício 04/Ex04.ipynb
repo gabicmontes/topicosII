{
 "cells": [
  {
   "cell_type": "code",
   "execution_count": 1,
   "metadata": {
    "id": "IduYUVTyVhes"
   },
   "outputs": [],
   "source": [
    "import numpy as np\n",
    "import pandas as pd\n",
    "import tensorflow as tf"
   ]
  },
  {
   "cell_type": "code",
   "execution_count": 2,
   "metadata": {
    "id": "Khh76wXNxCmQ"
   },
   "outputs": [],
   "source": [
    "dataset = pd.read_csv(\"wine.csv\")\n",
    "X = dataset.iloc[:, 0:13].values\n",
    "y = dataset.iloc[:, 13:14].values"
   ]
  },
  {
   "cell_type": "code",
   "execution_count": 3,
   "metadata": {
    "colab": {
     "base_uri": "https://localhost:8080/"
    },
    "id": "qmnArUC1xeH3",
    "outputId": "ef5f30de-a667-4348-e332-e6d438f68ab5"
   },
   "outputs": [
    {
     "data": {
      "text/plain": [
       "array([[1.423e+01, 1.710e+00, 2.430e+00, ..., 1.040e+00, 3.920e+00,\n",
       "        1.065e+03],\n",
       "       [1.320e+01, 1.780e+00, 2.140e+00, ..., 1.050e+00, 3.400e+00,\n",
       "        1.050e+03],\n",
       "       [1.316e+01, 2.360e+00, 2.670e+00, ..., 1.030e+00, 3.170e+00,\n",
       "        1.185e+03],\n",
       "       ...,\n",
       "       [1.327e+01, 4.280e+00, 2.260e+00, ..., 5.900e-01, 1.560e+00,\n",
       "        8.350e+02],\n",
       "       [1.317e+01, 2.590e+00, 2.370e+00, ..., 6.000e-01, 1.620e+00,\n",
       "        8.400e+02],\n",
       "       [1.413e+01, 4.100e+00, 2.740e+00, ..., 6.100e-01, 1.600e+00,\n",
       "        5.600e+02]])"
      ]
     },
     "execution_count": 3,
     "metadata": {},
     "output_type": "execute_result"
    }
   ],
   "source": [
    "X"
   ]
  },
  {
   "cell_type": "code",
   "execution_count": 4,
   "metadata": {
    "colab": {
     "base_uri": "https://localhost:8080/"
    },
    "id": "pgmxXfxLxgFH",
    "outputId": "f2e39b1b-65b7-4811-ea28-8c473248320b"
   },
   "outputs": [
    {
     "data": {
      "text/plain": [
       "array([[1],\n",
       "       [1],\n",
       "       [1],\n",
       "       [1],\n",
       "       [1],\n",
       "       [1],\n",
       "       [1],\n",
       "       [1],\n",
       "       [1],\n",
       "       [1],\n",
       "       [1],\n",
       "       [1],\n",
       "       [1],\n",
       "       [1],\n",
       "       [1],\n",
       "       [1],\n",
       "       [1],\n",
       "       [1],\n",
       "       [1],\n",
       "       [1],\n",
       "       [1],\n",
       "       [1],\n",
       "       [1],\n",
       "       [1],\n",
       "       [1],\n",
       "       [1],\n",
       "       [1],\n",
       "       [1],\n",
       "       [1],\n",
       "       [1],\n",
       "       [1],\n",
       "       [1],\n",
       "       [1],\n",
       "       [1],\n",
       "       [1],\n",
       "       [1],\n",
       "       [1],\n",
       "       [1],\n",
       "       [1],\n",
       "       [1],\n",
       "       [1],\n",
       "       [1],\n",
       "       [1],\n",
       "       [1],\n",
       "       [1],\n",
       "       [1],\n",
       "       [1],\n",
       "       [1],\n",
       "       [1],\n",
       "       [1],\n",
       "       [1],\n",
       "       [1],\n",
       "       [1],\n",
       "       [1],\n",
       "       [1],\n",
       "       [1],\n",
       "       [1],\n",
       "       [1],\n",
       "       [1],\n",
       "       [2],\n",
       "       [2],\n",
       "       [2],\n",
       "       [2],\n",
       "       [2],\n",
       "       [2],\n",
       "       [2],\n",
       "       [2],\n",
       "       [2],\n",
       "       [2],\n",
       "       [2],\n",
       "       [2],\n",
       "       [2],\n",
       "       [2],\n",
       "       [2],\n",
       "       [2],\n",
       "       [2],\n",
       "       [2],\n",
       "       [2],\n",
       "       [2],\n",
       "       [2],\n",
       "       [2],\n",
       "       [2],\n",
       "       [2],\n",
       "       [2],\n",
       "       [2],\n",
       "       [2],\n",
       "       [2],\n",
       "       [2],\n",
       "       [2],\n",
       "       [2],\n",
       "       [2],\n",
       "       [2],\n",
       "       [2],\n",
       "       [2],\n",
       "       [2],\n",
       "       [2],\n",
       "       [2],\n",
       "       [2],\n",
       "       [2],\n",
       "       [2],\n",
       "       [2],\n",
       "       [2],\n",
       "       [2],\n",
       "       [2],\n",
       "       [2],\n",
       "       [2],\n",
       "       [2],\n",
       "       [2],\n",
       "       [2],\n",
       "       [2],\n",
       "       [2],\n",
       "       [2],\n",
       "       [2],\n",
       "       [2],\n",
       "       [2],\n",
       "       [2],\n",
       "       [2],\n",
       "       [2],\n",
       "       [2],\n",
       "       [2],\n",
       "       [2],\n",
       "       [2],\n",
       "       [2],\n",
       "       [2],\n",
       "       [2],\n",
       "       [2],\n",
       "       [2],\n",
       "       [2],\n",
       "       [2],\n",
       "       [2],\n",
       "       [3],\n",
       "       [3],\n",
       "       [3],\n",
       "       [3],\n",
       "       [3],\n",
       "       [3],\n",
       "       [3],\n",
       "       [3],\n",
       "       [3],\n",
       "       [3],\n",
       "       [3],\n",
       "       [3],\n",
       "       [3],\n",
       "       [3],\n",
       "       [3],\n",
       "       [3],\n",
       "       [3],\n",
       "       [3],\n",
       "       [3],\n",
       "       [3],\n",
       "       [3],\n",
       "       [3],\n",
       "       [3],\n",
       "       [3],\n",
       "       [3],\n",
       "       [3],\n",
       "       [3],\n",
       "       [3],\n",
       "       [3],\n",
       "       [3],\n",
       "       [3],\n",
       "       [3],\n",
       "       [3],\n",
       "       [3],\n",
       "       [3],\n",
       "       [3],\n",
       "       [3],\n",
       "       [3],\n",
       "       [3],\n",
       "       [3],\n",
       "       [3],\n",
       "       [3],\n",
       "       [3],\n",
       "       [3],\n",
       "       [3],\n",
       "       [3],\n",
       "       [3],\n",
       "       [3]], dtype=int64)"
      ]
     },
     "execution_count": 4,
     "metadata": {},
     "output_type": "execute_result"
    }
   ],
   "source": [
    "y"
   ]
  },
  {
   "cell_type": "code",
   "execution_count": 5,
   "metadata": {},
   "outputs": [
    {
     "name": "stderr",
     "output_type": "stream",
     "text": [
      "D:\\PROGRAMAS\\Anaconda\\lib\\site-packages\\sklearn\\utils\\validation.py:73: DataConversionWarning: A column-vector y was passed when a 1d array was expected. Please change the shape of y to (n_samples, ), for example using ravel().\n",
      "  return f(**kwargs)\n"
     ]
    }
   ],
   "source": [
    "from sklearn.preprocessing import LabelEncoder\n",
    "from keras.utils import np_utils\n",
    "labelencoder = LabelEncoder()\n",
    "classe = labelencoder.fit_transform(y)\n",
    "classe_dummy = np_utils.to_categorical(y)"
   ]
  },
  {
   "cell_type": "code",
   "execution_count": 6,
   "metadata": {
    "id": "ZGSbCNK3CXTi"
   },
   "outputs": [],
   "source": [
    "from sklearn.model_selection import train_test_split\n",
    "X_train, X_test, y_train, y_test = train_test_split(X, classe_dummy, test_size = 0.2, random_state = 0)"
   ]
  },
  {
   "cell_type": "code",
   "execution_count": 7,
   "metadata": {
    "id": "LfxhGwk3DW4x"
   },
   "outputs": [],
   "source": [
    "from sklearn.preprocessing import StandardScaler\n",
    "sc = StandardScaler()\n",
    "X_train = sc.fit_transform(X_train)\n",
    "X_test = sc.transform(X_test)"
   ]
  },
  {
   "cell_type": "code",
   "execution_count": 8,
   "metadata": {
    "id": "YwcE7gBSMIAh"
   },
   "outputs": [],
   "source": [
    "ann = tf.keras.models.Sequential()\n",
    "ann.add(tf.keras.layers.Dense(units=6, activation='relu'))\n",
    "ann.add(tf.keras.layers.Dense(units=6, activation='relu'))\n",
    "ann.add(tf.keras.layers.Dense(units =4, activation = 'softmax'))\n",
    "\n",
    "ann.compile(optimizer='adam', loss='binary_crossentropy', metrics=['accuracy'])"
   ]
  },
  {
   "cell_type": "code",
   "execution_count": 9,
   "metadata": {
    "colab": {
     "base_uri": "https://localhost:8080/"
    },
    "id": "nQqi6VHzWlgk",
    "outputId": "b35aff98-b35d-4cfa-f148-5737103e55ad"
   },
   "outputs": [
    {
     "name": "stdout",
     "output_type": "stream",
     "text": [
      "Epoch 1/100\n",
      "5/5 [==============================] - 0s 4ms/step - loss: 0.7306 - accuracy: 0.1248\n",
      "Epoch 2/100\n",
      "5/5 [==============================] - 0s 748us/step - loss: 0.7284 - accuracy: 0.1243\n",
      "Epoch 3/100\n",
      "5/5 [==============================] - 0s 747us/step - loss: 0.7153 - accuracy: 0.1383\n",
      "Epoch 4/100\n",
      "5/5 [==============================] - 0s 1ms/step - loss: 0.7042 - accuracy: 0.1405\n",
      "Epoch 5/100\n",
      "5/5 [==============================] - 0s 749us/step - loss: 0.7020 - accuracy: 0.2084\n",
      "Epoch 6/100\n",
      "5/5 [==============================] - 0s 997us/step - loss: 0.6827 - accuracy: 0.2398\n",
      "Epoch 7/100\n",
      "5/5 [==============================] - 0s 999us/step - loss: 0.6830 - accuracy: 0.2691\n",
      "Epoch 8/100\n",
      "5/5 [==============================] - 0s 748us/step - loss: 0.6647 - accuracy: 0.3016\n",
      "Epoch 9/100\n",
      "5/5 [==============================] - 0s 748us/step - loss: 0.6702 - accuracy: 0.2785\n",
      "Epoch 10/100\n",
      "5/5 [==============================] - 0s 748us/step - loss: 0.6530 - accuracy: 0.3148\n",
      "Epoch 11/100\n",
      "5/5 [==============================] - 0s 748us/step - loss: 0.6457 - accuracy: 0.3530\n",
      "Epoch 12/100\n",
      "5/5 [==============================] - 0s 499us/step - loss: 0.6325 - accuracy: 0.3481\n",
      "Epoch 13/100\n",
      "5/5 [==============================] - 0s 745us/step - loss: 0.6268 - accuracy: 0.3464\n",
      "Epoch 14/100\n",
      "5/5 [==============================] - 0s 499us/step - loss: 0.6216 - accuracy: 0.3374\n",
      "Epoch 15/100\n",
      "5/5 [==============================] - 0s 833us/step - loss: 0.5978 - accuracy: 0.3769\n",
      "Epoch 16/100\n",
      "5/5 [==============================] - 0s 741us/step - loss: 0.6039 - accuracy: 0.3331\n",
      "Epoch 17/100\n",
      "5/5 [==============================] - 0s 749us/step - loss: 0.5832 - accuracy: 0.3671\n",
      "Epoch 18/100\n",
      "5/5 [==============================] - 0s 748us/step - loss: 0.5860 - accuracy: 0.3580\n",
      "Epoch 19/100\n",
      "5/5 [==============================] - 0s 1ms/step - loss: 0.5818 - accuracy: 0.3405\n",
      "Epoch 20/100\n",
      "5/5 [==============================] - 0s 997us/step - loss: 0.5598 - accuracy: 0.3977\n",
      "Epoch 21/100\n",
      "5/5 [==============================] - 0s 499us/step - loss: 0.5411 - accuracy: 0.4204\n",
      "Epoch 22/100\n",
      "5/5 [==============================] - 0s 748us/step - loss: 0.5481 - accuracy: 0.3893\n",
      "Epoch 23/100\n",
      "5/5 [==============================] - 0s 755us/step - loss: 0.5502 - accuracy: 0.3765\n",
      "Epoch 24/100\n",
      "5/5 [==============================] - 0s 505us/step - loss: 0.5463 - accuracy: 0.3590\n",
      "Epoch 25/100\n",
      "5/5 [==============================] - 0s 742us/step - loss: 0.5410 - accuracy: 0.3630\n",
      "Epoch 26/100\n",
      "5/5 [==============================] - 0s 499us/step - loss: 0.5280 - accuracy: 0.3934\n",
      "Epoch 27/100\n",
      "5/5 [==============================] - 0s 506us/step - loss: 0.5407 - accuracy: 0.3571\n",
      "Epoch 28/100\n",
      "5/5 [==============================] - 0s 748us/step - loss: 0.5197 - accuracy: 0.4061\n",
      "Epoch 29/100\n",
      "5/5 [==============================] - 0s 748us/step - loss: 0.5101 - accuracy: 0.4308\n",
      "Epoch 30/100\n",
      "5/5 [==============================] - 0s 997us/step - loss: 0.5218 - accuracy: 0.4086\n",
      "Epoch 31/100\n",
      "5/5 [==============================] - 0s 752us/step - loss: 0.4901 - accuracy: 0.4529\n",
      "Epoch 32/100\n",
      "5/5 [==============================] - 0s 730us/step - loss: 0.5013 - accuracy: 0.4347\n",
      "Epoch 33/100\n",
      "5/5 [==============================] - 0s 741us/step - loss: 0.5041 - accuracy: 0.3857\n",
      "Epoch 34/100\n",
      "5/5 [==============================] - 0s 750us/step - loss: 0.5012 - accuracy: 0.4219\n",
      "Epoch 35/100\n",
      "5/5 [==============================] - 0s 998us/step - loss: 0.4764 - accuracy: 0.4612\n",
      "Epoch 36/100\n",
      "5/5 [==============================] - 0s 754us/step - loss: 0.4742 - accuracy: 0.4594\n",
      "Epoch 37/100\n",
      "5/5 [==============================] - 0s 748us/step - loss: 0.4839 - accuracy: 0.4427\n",
      "Epoch 38/100\n",
      "5/5 [==============================] - 0s 748us/step - loss: 0.4831 - accuracy: 0.4213\n",
      "Epoch 39/100\n",
      "5/5 [==============================] - 0s 745us/step - loss: 0.4915 - accuracy: 0.4223\n",
      "Epoch 40/100\n",
      "5/5 [==============================] - 0s 497us/step - loss: 0.4832 - accuracy: 0.4522\n",
      "Epoch 41/100\n",
      "5/5 [==============================] - 0s 747us/step - loss: 0.4543 - accuracy: 0.5041\n",
      "Epoch 42/100\n",
      "5/5 [==============================] - 0s 997us/step - loss: 0.4808 - accuracy: 0.4296\n",
      "Epoch 43/100\n",
      "5/5 [==============================] - 0s 748us/step - loss: 0.4559 - accuracy: 0.5129\n",
      "Epoch 44/100\n",
      "5/5 [==============================] - 0s 503us/step - loss: 0.4359 - accuracy: 0.4992\n",
      "Epoch 45/100\n",
      "5/5 [==============================] - 0s 991us/step - loss: 0.4464 - accuracy: 0.5137\n",
      "Epoch 46/100\n",
      "5/5 [==============================] - 0s 742us/step - loss: 0.4472 - accuracy: 0.5026\n",
      "Epoch 47/100\n",
      "5/5 [==============================] - 0s 748us/step - loss: 0.4455 - accuracy: 0.4902\n",
      "Epoch 48/100\n",
      "5/5 [==============================] - 0s 748us/step - loss: 0.4252 - accuracy: 0.5164\n",
      "Epoch 49/100\n",
      "5/5 [==============================] - 0s 748us/step - loss: 0.4202 - accuracy: 0.5412\n",
      "Epoch 50/100\n",
      "5/5 [==============================] - 0s 748us/step - loss: 0.4214 - accuracy: 0.5279\n",
      "Epoch 51/100\n",
      "5/5 [==============================] - 0s 741us/step - loss: 0.4232 - accuracy: 0.5447\n",
      "Epoch 52/100\n",
      "5/5 [==============================] - 0s 746us/step - loss: 0.4225 - accuracy: 0.5547\n",
      "Epoch 53/100\n",
      "5/5 [==============================] - 0s 748us/step - loss: 0.4134 - accuracy: 0.5199\n",
      "Epoch 54/100\n",
      "5/5 [==============================] - 0s 754us/step - loss: 0.4080 - accuracy: 0.5616\n",
      "Epoch 55/100\n",
      "5/5 [==============================] - 0s 505us/step - loss: 0.4040 - accuracy: 0.6649\n",
      "Epoch 56/100\n",
      "5/5 [==============================] - 0s 749us/step - loss: 0.4007 - accuracy: 0.7410\n",
      "Epoch 57/100\n",
      "5/5 [==============================] - 0s 742us/step - loss: 0.3894 - accuracy: 0.7702\n",
      "Epoch 58/100\n",
      "5/5 [==============================] - 0s 742us/step - loss: 0.3919 - accuracy: 0.7847\n",
      "Epoch 59/100\n",
      "5/5 [==============================] - 0s 997us/step - loss: 0.3857 - accuracy: 0.7571\n",
      "Epoch 60/100\n",
      "5/5 [==============================] - 0s 749us/step - loss: 0.3801 - accuracy: 0.8087\n",
      "Epoch 61/100\n",
      "5/5 [==============================] - 0s 499us/step - loss: 0.3630 - accuracy: 0.7723\n",
      "Epoch 62/100\n",
      "5/5 [==============================] - 0s 751us/step - loss: 0.3342 - accuracy: 0.8020\n",
      "Epoch 63/100\n",
      "5/5 [==============================] - 0s 748us/step - loss: 0.3376 - accuracy: 0.8050\n",
      "Epoch 64/100\n",
      "5/5 [==============================] - 0s 505us/step - loss: 0.3465 - accuracy: 0.8028\n",
      "Epoch 65/100\n",
      "5/5 [==============================] - 0s 754us/step - loss: 0.3416 - accuracy: 0.7986\n",
      "Epoch 66/100\n",
      "5/5 [==============================] - 0s 750us/step - loss: 0.3225 - accuracy: 0.8259\n",
      "Epoch 67/100\n",
      "5/5 [==============================] - 0s 756us/step - loss: 0.3221 - accuracy: 0.7934\n",
      "Epoch 68/100\n",
      "5/5 [==============================] - 0s 499us/step - loss: 0.3023 - accuracy: 0.8075\n",
      "Epoch 69/100\n",
      "5/5 [==============================] - 0s 748us/step - loss: 0.2987 - accuracy: 0.8258\n",
      "Epoch 70/100\n",
      "5/5 [==============================] - 0s 741us/step - loss: 0.2977 - accuracy: 0.8725\n",
      "Epoch 71/100\n",
      "5/5 [==============================] - 0s 497us/step - loss: 0.2940 - accuracy: 0.8833\n",
      "Epoch 72/100\n",
      "5/5 [==============================] - 0s 751us/step - loss: 0.2805 - accuracy: 0.8778\n",
      "Epoch 73/100\n",
      "5/5 [==============================] - 0s 742us/step - loss: 0.2788 - accuracy: 0.8894\n",
      "Epoch 74/100\n",
      "5/5 [==============================] - 0s 499us/step - loss: 0.2557 - accuracy: 0.9165\n",
      "Epoch 75/100\n",
      "5/5 [==============================] - 0s 754us/step - loss: 0.2519 - accuracy: 0.9154\n",
      "Epoch 76/100\n",
      "5/5 [==============================] - 0s 499us/step - loss: 0.2474 - accuracy: 0.9015\n",
      "Epoch 77/100\n",
      "5/5 [==============================] - 0s 748us/step - loss: 0.2430 - accuracy: 0.9138\n",
      "Epoch 78/100\n",
      "5/5 [==============================] - 0s 748us/step - loss: 0.2302 - accuracy: 0.9297\n",
      "Epoch 79/100\n",
      "5/5 [==============================] - 0s 742us/step - loss: 0.2212 - accuracy: 0.9242\n",
      "Epoch 80/100\n",
      "5/5 [==============================] - 0s 741us/step - loss: 0.2155 - accuracy: 0.9372\n",
      "Epoch 81/100\n",
      "5/5 [==============================] - 0s 742us/step - loss: 0.2079 - accuracy: 0.9463\n",
      "Epoch 82/100\n",
      "5/5 [==============================] - 0s 748us/step - loss: 0.2210 - accuracy: 0.9181\n",
      "Epoch 83/100\n"
     ]
    },
    {
     "name": "stdout",
     "output_type": "stream",
     "text": [
      "5/5 [==============================] - 0s 742us/step - loss: 0.1983 - accuracy: 0.9333\n",
      "Epoch 84/100\n",
      "5/5 [==============================] - 0s 505us/step - loss: 0.1895 - accuracy: 0.9277\n",
      "Epoch 85/100\n",
      "5/5 [==============================] - 0s 690us/step - loss: 0.1838 - accuracy: 0.9316\n",
      "Epoch 86/100\n",
      "5/5 [==============================] - 0s 754us/step - loss: 0.1663 - accuracy: 0.9524\n",
      "Epoch 87/100\n",
      "5/5 [==============================] - 0s 748us/step - loss: 0.1799 - accuracy: 0.9238\n",
      "Epoch 88/100\n",
      "5/5 [==============================] - 0s 758us/step - loss: 0.1596 - accuracy: 0.9324\n",
      "Epoch 89/100\n",
      "5/5 [==============================] - 0s 748us/step - loss: 0.1751 - accuracy: 0.9211\n",
      "Epoch 90/100\n",
      "5/5 [==============================] - 0s 748us/step - loss: 0.1500 - accuracy: 0.9474\n",
      "Epoch 91/100\n",
      "5/5 [==============================] - 0s 805us/step - loss: 0.1450 - accuracy: 0.9343\n",
      "Epoch 92/100\n",
      "5/5 [==============================] - 0s 748us/step - loss: 0.1281 - accuracy: 0.9639\n",
      "Epoch 93/100\n",
      "5/5 [==============================] - 0s 748us/step - loss: 0.1295 - accuracy: 0.9515\n",
      "Epoch 94/100\n",
      "5/5 [==============================] - 0s 499us/step - loss: 0.1363 - accuracy: 0.9462\n",
      "Epoch 95/100\n",
      "5/5 [==============================] - 0s 499us/step - loss: 0.1266 - accuracy: 0.9629\n",
      "Epoch 96/100\n",
      "5/5 [==============================] - 0s 748us/step - loss: 0.1214 - accuracy: 0.9620\n",
      "Epoch 97/100\n",
      "5/5 [==============================] - 0s 499us/step - loss: 0.1150 - accuracy: 0.9603\n",
      "Epoch 98/100\n",
      "5/5 [==============================] - 0s 748us/step - loss: 0.1136 - accuracy: 0.9670\n",
      "Epoch 99/100\n",
      "5/5 [==============================] - 0s 748us/step - loss: 0.1213 - accuracy: 0.9659\n",
      "Epoch 100/100\n",
      "5/5 [==============================] - 0s 748us/step - loss: 0.1038 - accuracy: 0.9793\n"
     ]
    },
    {
     "data": {
      "text/plain": [
       "<tensorflow.python.keras.callbacks.History at 0x20154a63220>"
      ]
     },
     "execution_count": 9,
     "metadata": {},
     "output_type": "execute_result"
    }
   ],
   "source": [
    "ann.fit(X_train, y_train, batch_size=32, epochs=100)"
   ]
  },
  {
   "cell_type": "code",
   "execution_count": 10,
   "metadata": {
    "colab": {
     "base_uri": "https://localhost:8080/"
    },
    "id": "ukSudU2MWmA8",
    "outputId": "f5ed7751-22d6-4eef-ab23-cee2eb27cd16"
   },
   "outputs": [],
   "source": [
    "y_pred = ann.predict(X_test)\n",
    "y_pred = (y_pred > 0.5)"
   ]
  },
  {
   "cell_type": "code",
   "execution_count": 12,
   "metadata": {
    "colab": {
     "base_uri": "https://localhost:8080/"
    },
    "id": "VTUpWgavcXV4",
    "outputId": "1ade650f-08ce-4bc3-ed52-9313c71ecb8c"
   },
   "outputs": [
    {
     "data": {
      "text/plain": [
       "0.9166666666666666"
      ]
     },
     "execution_count": 12,
     "metadata": {},
     "output_type": "execute_result"
    }
   ],
   "source": [
    "from sklearn.metrics import accuracy_score\n",
    "accuracy_score(y_pred, y_test)"
   ]
  },
  {
   "cell_type": "code",
   "execution_count": null,
   "metadata": {},
   "outputs": [],
   "source": []
  }
 ],
 "metadata": {
  "colab": {
   "name": "Deep Learning - MLP.ipynb",
   "provenance": []
  },
  "kernelspec": {
   "display_name": "Python 3",
   "language": "python",
   "name": "python3"
  },
  "language_info": {
   "codemirror_mode": {
    "name": "ipython",
    "version": 3
   },
   "file_extension": ".py",
   "mimetype": "text/x-python",
   "name": "python",
   "nbconvert_exporter": "python",
   "pygments_lexer": "ipython3",
   "version": "3.8.3"
  }
 },
 "nbformat": 4,
 "nbformat_minor": 1
}
