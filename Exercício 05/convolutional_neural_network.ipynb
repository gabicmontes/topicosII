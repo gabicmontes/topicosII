{
 "cells": [
  {
   "cell_type": "markdown",
   "metadata": {
    "colab_type": "text",
    "id": "3DR-eO17geWu"
   },
   "source": [
    "# Convolutional Neural Network"
   ]
  },
  {
   "cell_type": "markdown",
   "metadata": {
    "colab_type": "text",
    "id": "EMefrVPCg-60"
   },
   "source": [
    "### Importing the libraries"
   ]
  },
  {
   "cell_type": "code",
   "execution_count": 1,
   "metadata": {
    "colab": {},
    "colab_type": "code",
    "id": "sCV30xyVhFbE"
   },
   "outputs": [],
   "source": [
    "import tensorflow as tf\n",
    "from keras.preprocessing.image import ImageDataGenerator"
   ]
  },
  {
   "cell_type": "markdown",
   "metadata": {
    "colab_type": "text",
    "id": "oxQxCBWyoGPE"
   },
   "source": [
    "## Part 1 - Data Preprocessing"
   ]
  },
  {
   "cell_type": "markdown",
   "metadata": {
    "colab_type": "text",
    "id": "MvE-heJNo3GG"
   },
   "source": [
    "### Preprocessing the Training set"
   ]
  },
  {
   "cell_type": "code",
   "execution_count": 3,
   "metadata": {
    "colab": {},
    "colab_type": "code",
    "id": "0koUcJMJpEBD"
   },
   "outputs": [
    {
     "name": "stdout",
     "output_type": "stream",
     "text": [
      "Found 5990 images belonging to 2 classes.\n"
     ]
    }
   ],
   "source": [
    "train_datagen = ImageDataGenerator(rescale = 1./255, \n",
    "                                   shear_range = 0.2,\n",
    "                                   zoom_range = 0.2,\n",
    "                                   horizontal_flip = True)\n",
    "\n",
    "training_set = train_datagen.flow_from_directory('dataset/train',\n",
    "                                                 target_size = (64, 64), \n",
    "                                                 batch_size = 32,\n",
    "                                                 class_mode = 'binary')"
   ]
  },
  {
   "cell_type": "markdown",
   "metadata": {
    "colab_type": "text",
    "id": "mrCMmGw9pHys"
   },
   "source": [
    "### Preprocessing the Test set"
   ]
  },
  {
   "cell_type": "code",
   "execution_count": 4,
   "metadata": {
    "colab": {},
    "colab_type": "code",
    "id": "SH4WzfOhpKc3"
   },
   "outputs": [
    {
     "name": "stdout",
     "output_type": "stream",
     "text": [
      "Found 664 images belonging to 2 classes.\n"
     ]
    }
   ],
   "source": [
    "test_datagen = ImageDataGenerator(rescale = 1./255) #pq não aplicamos as transformações? é pq queremos testar as imagens como elas são\n",
    "\n",
    "test_set = test_datagen.flow_from_directory('dataset/test',\n",
    "                                            target_size = (64, 64),\n",
    "                                            batch_size = 32,\n",
    "                                            class_mode = 'binary')"
   ]
  },
  {
   "cell_type": "markdown",
   "metadata": {
    "colab_type": "text",
    "id": "af8O4l90gk7B"
   },
   "source": [
    "## Part 2 - Building the CNN"
   ]
  },
  {
   "cell_type": "markdown",
   "metadata": {
    "colab_type": "text",
    "id": "ces1gXY2lmoX"
   },
   "source": [
    "### Initialising the CNN"
   ]
  },
  {
   "cell_type": "code",
   "execution_count": 5,
   "metadata": {
    "colab": {},
    "colab_type": "code",
    "id": "SAUt4UMPlhLS"
   },
   "outputs": [],
   "source": [
    "cnn = tf.keras.models.Sequential()"
   ]
  },
  {
   "cell_type": "markdown",
   "metadata": {
    "colab_type": "text",
    "id": "u5YJj_XMl5LF"
   },
   "source": [
    "### Step 1 - Convolution"
   ]
  },
  {
   "cell_type": "code",
   "execution_count": 6,
   "metadata": {
    "colab": {},
    "colab_type": "code",
    "id": "XPzPrMckl-hV"
   },
   "outputs": [],
   "source": [
    "#filters = total de filtros\n",
    "#kernel_size = tamanho dos filtros (3x3)\n",
    "#input shape = dados de entrada, no caso, as imagens 64x64 coloridas\n",
    "cnn.add(tf.keras.layers.Conv2D(filters=32, kernel_size=3, activation='relu', input_shape=[64, 64, 3]))"
   ]
  },
  {
   "cell_type": "markdown",
   "metadata": {
    "colab_type": "text",
    "id": "tf87FpvxmNOJ"
   },
   "source": [
    "### Step 2 - Pooling"
   ]
  },
  {
   "cell_type": "code",
   "execution_count": 7,
   "metadata": {
    "colab": {},
    "colab_type": "code",
    "id": "ncpqPl69mOac"
   },
   "outputs": [],
   "source": [
    "#pool_size = dimensão do operador de convolução\n",
    "#strides = \"caminhar\" da janela\n",
    "cnn.add(tf.keras.layers.MaxPool2D(pool_size=2, strides=2))"
   ]
  },
  {
   "cell_type": "markdown",
   "metadata": {
    "colab_type": "text",
    "id": "xaTOgD8rm4mU"
   },
   "source": [
    "### Adding a second convolutional layer"
   ]
  },
  {
   "cell_type": "code",
   "execution_count": 8,
   "metadata": {
    "colab": {},
    "colab_type": "code",
    "id": "i_-FZjn_m8gk"
   },
   "outputs": [],
   "source": [
    "cnn.add(tf.keras.layers.Conv2D(filters=32, kernel_size=3, activation='relu'))\n",
    "cnn.add(tf.keras.layers.MaxPool2D(pool_size=2, strides=2))"
   ]
  },
  {
   "cell_type": "markdown",
   "metadata": {
    "colab_type": "text",
    "id": "tmiEuvTunKfk"
   },
   "source": [
    "### Step 3 - Flattening"
   ]
  },
  {
   "cell_type": "code",
   "execution_count": 9,
   "metadata": {
    "colab": {},
    "colab_type": "code",
    "id": "6AZeOGCvnNZn"
   },
   "outputs": [],
   "source": [
    "cnn.add(tf.keras.layers.Flatten())"
   ]
  },
  {
   "cell_type": "markdown",
   "metadata": {
    "colab_type": "text",
    "id": "dAoSECOm203v"
   },
   "source": [
    "### Step 4 - Full Connection"
   ]
  },
  {
   "cell_type": "code",
   "execution_count": 10,
   "metadata": {
    "colab": {},
    "colab_type": "code",
    "id": "8GtmUlLd26Nq"
   },
   "outputs": [],
   "source": [
    "cnn.add(tf.keras.layers.Dense(units=128, activation='relu'))"
   ]
  },
  {
   "cell_type": "markdown",
   "metadata": {
    "colab_type": "text",
    "id": "yTldFvbX28Na"
   },
   "source": [
    "### Step 5 - Output Layer"
   ]
  },
  {
   "cell_type": "code",
   "execution_count": 11,
   "metadata": {
    "colab": {},
    "colab_type": "code",
    "id": "1p_Zj1Mc3Ko_"
   },
   "outputs": [],
   "source": [
    "cnn.add(tf.keras.layers.Dense(units=1, activation='sigmoid'))"
   ]
  },
  {
   "cell_type": "markdown",
   "metadata": {
    "colab_type": "text",
    "id": "D6XkI90snSDl"
   },
   "source": [
    "## Part 3 - Training the CNN"
   ]
  },
  {
   "cell_type": "markdown",
   "metadata": {
    "colab_type": "text",
    "id": "vfrFQACEnc6i"
   },
   "source": [
    "### Compiling the CNN"
   ]
  },
  {
   "cell_type": "code",
   "execution_count": 12,
   "metadata": {
    "colab": {},
    "colab_type": "code",
    "id": "NALksrNQpUlJ"
   },
   "outputs": [],
   "source": [
    "cnn.compile(optimizer = 'adam', loss = 'binary_crossentropy', metrics = ['accuracy'])"
   ]
  },
  {
   "cell_type": "markdown",
   "metadata": {
    "colab_type": "text",
    "id": "ehS-v3MIpX2h"
   },
   "source": [
    "### Training the CNN on the Training set and evaluating it on the Test set"
   ]
  },
  {
   "cell_type": "code",
   "execution_count": 13,
   "metadata": {
    "colab": {},
    "colab_type": "code",
    "id": "XUj1W4PJptta"
   },
   "outputs": [
    {
     "name": "stdout",
     "output_type": "stream",
     "text": [
      "Epoch 1/25\n",
      "188/188 [==============================] - 18s 92ms/step - loss: 0.4676 - accuracy: 0.7625 - val_loss: 0.2300 - val_accuracy: 0.9006\n",
      "Epoch 2/25\n",
      "188/188 [==============================] - 17s 89ms/step - loss: 0.2442 - accuracy: 0.9070 - val_loss: 0.1617 - val_accuracy: 0.9473\n",
      "Epoch 3/25\n",
      "188/188 [==============================] - 17s 90ms/step - loss: 0.1620 - accuracy: 0.9385 - val_loss: 0.1385 - val_accuracy: 0.9488\n",
      "Epoch 4/25\n",
      "188/188 [==============================] - 17s 90ms/step - loss: 0.1563 - accuracy: 0.9431 - val_loss: 0.1357 - val_accuracy: 0.9443\n",
      "Epoch 5/25\n",
      "188/188 [==============================] - 17s 90ms/step - loss: 0.1469 - accuracy: 0.9447 - val_loss: 0.1212 - val_accuracy: 0.9473\n",
      "Epoch 6/25\n",
      "188/188 [==============================] - 17s 90ms/step - loss: 0.1478 - accuracy: 0.9451 - val_loss: 0.1061 - val_accuracy: 0.9548\n",
      "Epoch 7/25\n",
      "188/188 [==============================] - 17s 89ms/step - loss: 0.1305 - accuracy: 0.9473 - val_loss: 0.1013 - val_accuracy: 0.9593\n",
      "Epoch 8/25\n",
      "188/188 [==============================] - 17s 89ms/step - loss: 0.1145 - accuracy: 0.9574 - val_loss: 0.0937 - val_accuracy: 0.9669\n",
      "Epoch 9/25\n",
      "188/188 [==============================] - 17s 89ms/step - loss: 0.1002 - accuracy: 0.9632 - val_loss: 0.1098 - val_accuracy: 0.9488\n",
      "Epoch 10/25\n",
      "188/188 [==============================] - 17s 89ms/step - loss: 0.1042 - accuracy: 0.9607 - val_loss: 0.0755 - val_accuracy: 0.9654\n",
      "Epoch 11/25\n",
      "188/188 [==============================] - 17s 89ms/step - loss: 0.0993 - accuracy: 0.9624 - val_loss: 0.1265 - val_accuracy: 0.9428\n",
      "Epoch 12/25\n",
      "188/188 [==============================] - 17s 89ms/step - loss: 0.0948 - accuracy: 0.9655 - val_loss: 0.0694 - val_accuracy: 0.9744\n",
      "Epoch 13/25\n",
      "188/188 [==============================] - 17s 90ms/step - loss: 0.0852 - accuracy: 0.9655 - val_loss: 0.0672 - val_accuracy: 0.9729\n",
      "Epoch 14/25\n",
      "188/188 [==============================] - 17s 90ms/step - loss: 0.0772 - accuracy: 0.9733 - val_loss: 0.0647 - val_accuracy: 0.9774\n",
      "Epoch 15/25\n",
      "188/188 [==============================] - 17s 90ms/step - loss: 0.0705 - accuracy: 0.9754 - val_loss: 0.0601 - val_accuracy: 0.9744\n",
      "Epoch 16/25\n",
      "188/188 [==============================] - 17s 89ms/step - loss: 0.0702 - accuracy: 0.9696 - val_loss: 0.0615 - val_accuracy: 0.9684\n",
      "Epoch 17/25\n",
      "188/188 [==============================] - 17s 89ms/step - loss: 0.0716 - accuracy: 0.9738 - val_loss: 0.0588 - val_accuracy: 0.9744\n",
      "Epoch 18/25\n",
      "188/188 [==============================] - 17s 92ms/step - loss: 0.0772 - accuracy: 0.9714 - val_loss: 0.0490 - val_accuracy: 0.9819\n",
      "Epoch 19/25\n",
      "188/188 [==============================] - 18s 97ms/step - loss: 0.0733 - accuracy: 0.9725 - val_loss: 0.0635 - val_accuracy: 0.9669\n",
      "Epoch 20/25\n",
      "188/188 [==============================] - 17s 93ms/step - loss: 0.0756 - accuracy: 0.9718 - val_loss: 0.0463 - val_accuracy: 0.9834\n",
      "Epoch 21/25\n",
      "188/188 [==============================] - 18s 93ms/step - loss: 0.0603 - accuracy: 0.9759 - val_loss: 0.0661 - val_accuracy: 0.9684\n",
      "Epoch 22/25\n",
      "188/188 [==============================] - 17s 92ms/step - loss: 0.0464 - accuracy: 0.9827 - val_loss: 0.0587 - val_accuracy: 0.9759\n",
      "Epoch 23/25\n",
      "188/188 [==============================] - 17s 91ms/step - loss: 0.0539 - accuracy: 0.9807 - val_loss: 0.0863 - val_accuracy: 0.9548\n",
      "Epoch 24/25\n",
      "188/188 [==============================] - 17s 92ms/step - loss: 0.0599 - accuracy: 0.9774 - val_loss: 0.0418 - val_accuracy: 0.9834\n",
      "Epoch 25/25\n",
      "188/188 [==============================] - 17s 92ms/step - loss: 0.0495 - accuracy: 0.9797 - val_loss: 0.0477 - val_accuracy: 0.9789\n"
     ]
    },
    {
     "data": {
      "text/plain": [
       "<tensorflow.python.keras.callbacks.History at 0x250ad0089d0>"
      ]
     },
     "execution_count": 13,
     "metadata": {},
     "output_type": "execute_result"
    }
   ],
   "source": [
    "cnn.fit(x = training_set, validation_data = test_set, epochs = 25)"
   ]
  },
  {
   "cell_type": "markdown",
   "metadata": {
    "colab_type": "text",
    "id": "U3PZasO0006Z"
   },
   "source": [
    "## Part 4 - Making a single prediction"
   ]
  },
  {
   "cell_type": "code",
   "execution_count": 15,
   "metadata": {
    "colab": {},
    "colab_type": "code",
    "id": "gsSiWEJY1BPB"
   },
   "outputs": [],
   "source": [
    "import numpy as np\n",
    "from keras.preprocessing import image\n",
    "test_image = image.load_img('dataset/predict.jpg', target_size = (64, 64))\n",
    "test_image = image.img_to_array(test_image)\n",
    "test_image = np.expand_dims(test_image, axis = 0) #adiciona uma dimensão nova para incluir os batches\n",
    "result = cnn.predict(test_image)\n",
    "\n",
    "#imagem do batch e \n",
    "if result[0][0] == 1:\n",
    "  prediction = 'spiral'\n",
    "else:\n",
    "  prediction = 'completely_round'\n",
    "\n",
    "#training_set.class_indices"
   ]
  },
  {
   "cell_type": "code",
   "execution_count": 16,
   "metadata": {
    "colab": {},
    "colab_type": "code",
    "id": "ED9KB3I54c1i"
   },
   "outputs": [
    {
     "data": {
      "text/plain": [
       "'spiral'"
      ]
     },
     "execution_count": 16,
     "metadata": {},
     "output_type": "execute_result"
    }
   ],
   "source": [
    "prediction"
   ]
  }
 ],
 "metadata": {
  "colab": {
   "collapsed_sections": [],
   "name": "convolutional_neural_network.ipynb",
   "provenance": [],
   "toc_visible": true
  },
  "kernelspec": {
   "display_name": "Python 3",
   "language": "python",
   "name": "python3"
  },
  "language_info": {
   "codemirror_mode": {
    "name": "ipython",
    "version": 3
   },
   "file_extension": ".py",
   "mimetype": "text/x-python",
   "name": "python",
   "nbconvert_exporter": "python",
   "pygments_lexer": "ipython3",
   "version": "3.8.3"
  }
 },
 "nbformat": 4,
 "nbformat_minor": 1
}
