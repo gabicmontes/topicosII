{
 "cells": [
  {
   "cell_type": "code",
   "execution_count": 1,
   "metadata": {},
   "outputs": [
    {
     "name": "stderr",
     "output_type": "stream",
     "text": [
      "C:\\Users\\Pichau\\AppData\\Roaming\\Python\\Python36\\site-packages\\sklearn\\ensemble\\weight_boosting.py:29: DeprecationWarning: numpy.core.umath_tests is an internal NumPy module and should not be imported. It will be removed in a future NumPy release.\n",
      "  from numpy.core.umath_tests import inner1d\n"
     ]
    }
   ],
   "source": [
    "import pandas as pd\n",
    "import matplotlib.pyplot as plt\n",
    "import numpy as np\n",
    "import matplotlib.patches as mpatches\n",
    "from sklearn.linear_model import LinearRegression\n",
    "from sklearn.preprocessing import PolynomialFeatures\n",
    "from sklearn.tree import DecisionTreeRegressor\n",
    "from sklearn.ensemble import RandomForestRegressor\n",
    "from sklearn.metrics import mean_squared_error "
   ]
  },
  {
   "cell_type": "markdown",
   "metadata": {},
   "source": [
    "# Dataset"
   ]
  },
  {
   "cell_type": "markdown",
   "metadata": {},
   "source": [
    "Nossa base de dados contém informações referente a fotometria da Supernova SN2004gs."
   ]
  },
  {
   "cell_type": "code",
   "execution_count": 2,
   "metadata": {},
   "outputs": [
    {
     "data": {
      "text/html": [
       "<div>\n",
       "<style scoped>\n",
       "    .dataframe tbody tr th:only-of-type {\n",
       "        vertical-align: middle;\n",
       "    }\n",
       "\n",
       "    .dataframe tbody tr th {\n",
       "        vertical-align: top;\n",
       "    }\n",
       "\n",
       "    .dataframe thead th {\n",
       "        text-align: right;\n",
       "    }\n",
       "</style>\n",
       "<table border=\"1\" class=\"dataframe\">\n",
       "  <thead>\n",
       "    <tr style=\"text-align: right;\">\n",
       "      <th></th>\n",
       "      <th>event</th>\n",
       "      <th>time</th>\n",
       "      <th>magnitude</th>\n",
       "      <th>e_magnitude</th>\n",
       "      <th>upperlimit</th>\n",
       "      <th>band</th>\n",
       "      <th>instrument</th>\n",
       "      <th>telescope</th>\n",
       "      <th>source</th>\n",
       "    </tr>\n",
       "  </thead>\n",
       "  <tbody>\n",
       "    <tr>\n",
       "      <th>0</th>\n",
       "      <td>SN2004gs</td>\n",
       "      <td>53350.50000</td>\n",
       "      <td>17.100</td>\n",
       "      <td>NaN</td>\n",
       "      <td>NaN</td>\n",
       "      <td>NaN</td>\n",
       "      <td>NaN</td>\n",
       "      <td>NaN</td>\n",
       "      <td>2004IAUC.8453....3F,Latest Supernovae</td>\n",
       "    </tr>\n",
       "    <tr>\n",
       "      <th>1</th>\n",
       "      <td>SN2004gs</td>\n",
       "      <td>53352.33138</td>\n",
       "      <td>17.416</td>\n",
       "      <td>0.008</td>\n",
       "      <td>NaN</td>\n",
       "      <td>B</td>\n",
       "      <td>NaN</td>\n",
       "      <td>NaN</td>\n",
       "      <td>2010AJ....139..519C</td>\n",
       "    </tr>\n",
       "    <tr>\n",
       "      <th>2</th>\n",
       "      <td>SN2004gs</td>\n",
       "      <td>53352.33138</td>\n",
       "      <td>17.258</td>\n",
       "      <td>0.093</td>\n",
       "      <td>NaN</td>\n",
       "      <td>V</td>\n",
       "      <td>NaN</td>\n",
       "      <td>NaN</td>\n",
       "      <td>2010AJ....139..519C</td>\n",
       "    </tr>\n",
       "    <tr>\n",
       "      <th>3</th>\n",
       "      <td>SN2004gs</td>\n",
       "      <td>53352.33138</td>\n",
       "      <td>17.291</td>\n",
       "      <td>0.010</td>\n",
       "      <td>NaN</td>\n",
       "      <td>g</td>\n",
       "      <td>NaN</td>\n",
       "      <td>NaN</td>\n",
       "      <td>2010AJ....139..519C</td>\n",
       "    </tr>\n",
       "    <tr>\n",
       "      <th>4</th>\n",
       "      <td>SN2004gs</td>\n",
       "      <td>53352.33138</td>\n",
       "      <td>17.397</td>\n",
       "      <td>0.020</td>\n",
       "      <td>NaN</td>\n",
       "      <td>i</td>\n",
       "      <td>NaN</td>\n",
       "      <td>NaN</td>\n",
       "      <td>2010AJ....139..519C</td>\n",
       "    </tr>\n",
       "  </tbody>\n",
       "</table>\n",
       "</div>"
      ],
      "text/plain": [
       "      event         time  magnitude  e_magnitude  upperlimit band  instrument  \\\n",
       "0  SN2004gs  53350.50000     17.100          NaN         NaN  NaN         NaN   \n",
       "1  SN2004gs  53352.33138     17.416        0.008         NaN    B         NaN   \n",
       "2  SN2004gs  53352.33138     17.258        0.093         NaN    V         NaN   \n",
       "3  SN2004gs  53352.33138     17.291        0.010         NaN    g         NaN   \n",
       "4  SN2004gs  53352.33138     17.397        0.020         NaN    i         NaN   \n",
       "\n",
       "  telescope                                 source  \n",
       "0       NaN  2004IAUC.8453....3F,Latest Supernovae  \n",
       "1       NaN                    2010AJ....139..519C  \n",
       "2       NaN                    2010AJ....139..519C  \n",
       "3       NaN                    2010AJ....139..519C  \n",
       "4       NaN                    2010AJ....139..519C  "
      ]
     },
     "execution_count": 2,
     "metadata": {},
     "output_type": "execute_result"
    }
   ],
   "source": [
    "#importando a base de dados\n",
    "base = pd.read_csv(\"sn5.csv\")\n",
    "\n",
    "base.head(5)"
   ]
  },
  {
   "cell_type": "markdown",
   "metadata": {},
   "source": [
    "A fotometria da minha base tem informações da intensidade da luz em função do tempo em vários comprimentos de onda (banda espectral).\n",
    "O gráfico a seguir mostra a fotometria nas principais bandas espectrais medidas."
   ]
  },
  {
   "cell_type": "code",
   "execution_count": 3,
   "metadata": {},
   "outputs": [
    {
     "data": {
      "image/png": "[encoded data removed]",
      "text/plain": [
       "<Figure size 432x288 with 1 Axes>"
      ]
     },
     "metadata": {
      "needs_background": "light"
     },
     "output_type": "display_data"
    }
   ],
   "source": [
    "base_i = base.loc[(base['band'] == 'I') | (base['band'] == 'i')]\n",
    "base_g = base.loc[(base['band'] == 'G' )| (base['band'] == 'g')]\n",
    "base_r = base.loc[(base['band'] == 'R') | (base['band'] == 'r')]\n",
    "base_v = base.loc[(base['band'] == 'V') | (base['band'] == 'v')]\n",
    "base_b = base.loc[(base['band'] == 'B') | (base['band'] == 'b')]\n",
    "base_u = base.loc[(base['band'] == 'U') | (base['band'] == 'u')]\n",
    "\n",
    "plt.scatter(base_i['time'], base_i['magnitude'], color = '#ff7256', label = 'I')\n",
    "plt.scatter(base_g['time'], base_g['magnitude'], color = '#5de578', label = 'G')\n",
    "plt.scatter(base_r['time'], base_r['magnitude'], color = 'red', label = 'R')\n",
    "plt.scatter(base_v['time'], base_v['magnitude'], color = '#70c9d5', label = 'V')\n",
    "plt.scatter(base_b['time'], base_b['magnitude'], color = 'blue', label = 'B')\n",
    "plt.scatter(base_u['time'], base_u['magnitude'], color = '#673ab7', label = 'U')\n",
    "plt.gca().invert_yaxis()\n",
    "plt.title('Fotometria SN2004gs')\n",
    "plt.xlabel('Tempo')\n",
    "plt.ylabel('Magnitude')\n",
    "plt.legend()\n",
    "plt.show()"
   ]
  },
  {
   "cell_type": "markdown",
   "metadata": {},
   "source": [
    "# Selecionar a banda espectral"
   ]
  },
  {
   "cell_type": "markdown",
   "metadata": {},
   "source": [
    "Irei usar apenas uma banda para realizar a previsão.\n",
    "Essa parte do código escolhe a banda que tem informações de mais dias do evento da Supernova e me retorna apenas os dados da banda selecionada, salvo na variável base_banda."
   ]
  },
  {
   "cell_type": "code",
   "execution_count": 13,
   "metadata": {},
   "outputs": [
    {
     "data": {
      "image/png": "[encoded data removed]",
      "text/plain": [
       "<Figure size 432x288 with 1 Axes>"
      ]
     },
     "metadata": {
      "needs_background": "light"
     },
     "output_type": "display_data"
    }
   ],
   "source": [
    "bandaComMaisDias = base['band'].value_counts().head(1)\n",
    "nomeBanda = bandaComMaisDias.index.tolist()\n",
    "base_banda = base.loc[(base['band']) == \"i\"]  \n",
    "\n",
    "#Apenas para vizualização da base\n",
    "base_banda.head(5)\n",
    "\n",
    "#Gráfico da banda selecionada para realizarmos a previsão\n",
    "plt.scatter(base_banda['time'], base_banda['magnitude'], color = '#70c9d5', label = \"V\")\n",
    "plt.gca().invert_yaxis()\n",
    "plt.title('Fotometria - banda V')\n",
    "plt.xlabel('Tempo')\n",
    "plt.ylabel('Magnitude')\n",
    "plt.legend()\n",
    "plt.show()"
   ]
  },
  {
   "cell_type": "markdown",
   "metadata": {},
   "source": [
    "# Dados importantes"
   ]
  },
  {
   "cell_type": "markdown",
   "metadata": {},
   "source": [
    "Aqui salvamos algumas variáveis que armazenam informações importantes para aplicarmos os algoritmos de previsão."
   ]
  },
  {
   "cell_type": "code",
   "execution_count": 5,
   "metadata": {},
   "outputs": [],
   "source": [
    "diasASimular = 20\n",
    "totalDeDiasReais = base_banda.shape[0]\n",
    "\n",
    "magnitude = base_banda['magnitude'].to_numpy()\n",
    "tempo = base_banda['time'].to_numpy()\n",
    "\n",
    "xTrain = np.arange(0, len(tempo[0:totalDeDiasReais]))\n",
    "yTrain = magnitude[0:totalDeDiasReais]\n",
    "\n",
    "xPredict = np.arange(0, len(xTrain + diasASimular))"
   ]
  },
  {
   "cell_type": "markdown",
   "metadata": {},
   "source": [
    "# Regressão Linear"
   ]
  },
  {
   "cell_type": "code",
   "execution_count": 6,
   "metadata": {},
   "outputs": [],
   "source": [
    "#treino\n",
    "LRModel = LinearRegression()\n",
    "try:\n",
    "    LRModel.fit(xTrain.reshape(-1, 1), yTrain)\n",
    "except:\n",
    "    pass\n",
    "\n",
    "#Previsão\n",
    "linear = LRModel.predict(xPredict.reshape(-1, 1))    "
   ]
  },
  {
   "cell_type": "markdown",
   "metadata": {},
   "source": [
    "Cálculo do erro"
   ]
  },
  {
   "cell_type": "code",
   "execution_count": 7,
   "metadata": {},
   "outputs": [
    {
     "name": "stdout",
     "output_type": "stream",
     "text": [
      "0.04432932531097489\n"
     ]
    }
   ],
   "source": [
    "eLinear = mean_squared_error(magnitude[0:totalDeDiasReais + diasASimular], linear)\n",
    "print(eLinear)"
   ]
  },
  {
   "cell_type": "markdown",
   "metadata": {},
   "source": [
    "Gráfico"
   ]
  },
  {
   "cell_type": "code",
   "execution_count": 8,
   "metadata": {},
   "outputs": [
    {
     "data": {
      "text/plain": [
       "<matplotlib.legend.Legend at 0x20de67e4b70>"
      ]
     },
     "execution_count": 8,
     "metadata": {},
     "output_type": "execute_result"
    },
    {
     "data": {
      "image/png": "[encoded data removed]",
      "text/plain": [
       "<Figure size 432x288 with 1 Axes>"
      ]
     },
     "metadata": {
      "needs_background": "light"
     },
     "output_type": "display_data"
    }
   ],
   "source": [
    "plt.scatter(tempo, magnitude, color = '#70c9d5', label = 'V')    \n",
    "plt.plot(tempo, linear, color=\"red\", label = \"Regressão Linear\")\n",
    "plt.gca().invert_yaxis()\n",
    "\n",
    "plt.title('Fotometria SN2004gs')\n",
    "plt.xlabel('Tempo')\n",
    "plt.ylabel('Magnitude')\n",
    "plt.legend()"
   ]
  },
  {
   "cell_type": "markdown",
   "metadata": {},
   "source": [
    "# Regressão Polinomial de Grau 2"
   ]
  },
  {
   "cell_type": "code",
   "execution_count": 9,
   "metadata": {},
   "outputs": [],
   "source": [
    "#Treino\n",
    "polynomialFeatures = PolynomialFeatures(degree = 2)\n",
    "XPoly = polynomialFeatures.fit_transform(xTrain.reshape(-1, 1))\n",
    "    \n",
    "polyLinearRegression = LinearRegression()\n",
    "polyLinearRegression.fit(XPoly, yTrain)\n",
    "\n",
    "#predição\n",
    "XPoly = polynomialFeatures.fit_transform(xPredict.reshape(-1, 1))\n",
    "grau2 = polyLinearRegression.predict(XPoly)"
   ]
  },
  {
   "cell_type": "markdown",
   "metadata": {},
   "source": [
    "Cálculo do erro"
   ]
  },
  {
   "cell_type": "code",
   "execution_count": 10,
   "metadata": {},
   "outputs": [
    {
     "name": "stdout",
     "output_type": "stream",
     "text": [
      "0.04084682345079932\n"
     ]
    }
   ],
   "source": [
    "eGrau2 = mean_squared_error(magnitude[0:totalDeDiasReais + diasASimular], grau2)\n",
    "print(eGrau2)"
   ]
  },
  {
   "cell_type": "markdown",
   "metadata": {},
   "source": [
    "Gráfico"
   ]
  },
  {
   "cell_type": "code",
   "execution_count": 11,
   "metadata": {},
   "outputs": [
    {
     "data": {
      "text/plain": [
       "<matplotlib.legend.Legend at 0x20de885a5f8>"
      ]
     },
     "execution_count": 11,
     "metadata": {},
     "output_type": "execute_result"
    },
    {
     "data": {
      "image/png": "[encoded data removed]",
      "text/plain": [
       "<Figure size 432x288 with 1 Axes>"
      ]
     },
     "metadata": {
      "needs_background": "light"
     },
     "output_type": "display_data"
    }
   ],
   "source": [
    "plt.scatter(tempo, magnitude, color = '#70c9d5', label = 'V')    \n",
    "plt.plot(tempo, grau2, color=\"red\", label = \"Regressão Polinomial de Grau 2\")\n",
    "plt.gca().invert_yaxis()\n",
    "\n",
    "plt.title('Fotometria SN2004gs')\n",
    "plt.xlabel('Tempo')\n",
    "plt.ylabel('Magnitude')\n",
    "plt.legend()"
   ]
  },
  {
   "cell_type": "markdown",
   "metadata": {},
   "source": [
    "\n",
    "# Regressão Polinomial de Grau 3"
   ]
  },
  {
   "cell_type": "code",
   "execution_count": 12,
   "metadata": {},
   "outputs": [],
   "source": [
    "#Treino\n",
    "polynomialFeatures = PolynomialFeatures(degree = 3)\n",
    "XPoly = polynomialFeatures.fit_transform(xTrain.reshape(-1, 1))\n",
    "    \n",
    "polyLinearRegression = LinearRegression()\n",
    "polyLinearRegression.fit(XPoly, yTrain)\n",
    "\n",
    "#predição\n",
    "XPoly = polynomialFeatures.fit_transform(xPredict.reshape(-1, 1))\n",
    "grau3 = polyLinearRegression.predict(XPoly)"
   ]
  },
  {
   "cell_type": "markdown",
   "metadata": {},
   "source": [
    "Cálculo do erro"
   ]
  },
  {
   "cell_type": "code",
   "execution_count": 13,
   "metadata": {},
   "outputs": [
    {
     "name": "stdout",
     "output_type": "stream",
     "text": [
      "0.06552630097809578\n"
     ]
    }
   ],
   "source": [
    "eGrau3 = mean_squared_error(magnitude[0:totalDeDiasReais + diasASimular], grau3)\n",
    "print(eGrau3)"
   ]
  },
  {
   "cell_type": "markdown",
   "metadata": {},
   "source": [
    "Gráfico"
   ]
  },
  {
   "cell_type": "code",
   "execution_count": 14,
   "metadata": {},
   "outputs": [
    {
     "data": {
      "text/plain": [
       "<matplotlib.legend.Legend at 0x26d788489e8>"
      ]
     },
     "execution_count": 14,
     "metadata": {},
     "output_type": "execute_result"
    },
    {
     "data": {
      "image/png": "[encoded data removed]",
      "text/plain": [
       "<Figure size 432x288 with 1 Axes>"
      ]
     },
     "metadata": {
      "needs_background": "light"
     },
     "output_type": "display_data"
    }
   ],
   "source": [
    "plt.scatter(tempo, magnitude, color = '#70c9d5', label = 'V')    \n",
    "plt.plot(tempo, grau3, color=\"red\", label = \"Regressão Polinomial de Grau 3\")\n",
    "plt.gca().invert_yaxis()\n",
    "\n",
    "plt.title('Fotometria SN2004gs')\n",
    "plt.xlabel('Tempo')\n",
    "plt.ylabel('Magnitude')\n",
    "plt.legend()"
   ]
  },
  {
   "cell_type": "markdown",
   "metadata": {},
   "source": [
    "# Árvore de Decisão"
   ]
  },
  {
   "cell_type": "code",
   "execution_count": 15,
   "metadata": {},
   "outputs": [],
   "source": [
    "#Treino\n",
    "regressor = DecisionTreeRegressor()\n",
    "regressor.fit(xTrain.reshape(-1, 1), yTrain)\n",
    "\n",
    "#predição\n",
    "arvore = regressor.predict(xPredict.reshape(-1, 1))"
   ]
  },
  {
   "cell_type": "markdown",
   "metadata": {},
   "source": [
    "Cálculo do erro"
   ]
  },
  {
   "cell_type": "code",
   "execution_count": 16,
   "metadata": {},
   "outputs": [
    {
     "name": "stdout",
     "output_type": "stream",
     "text": [
      "0.0\n"
     ]
    }
   ],
   "source": [
    "eArvore = mean_squared_error(magnitude[0:totalDeDiasReais + diasASimular], arvore)\n",
    "print(eArvore)"
   ]
  },
  {
   "cell_type": "markdown",
   "metadata": {},
   "source": [
    "Gráfico"
   ]
  },
  {
   "cell_type": "code",
   "execution_count": 17,
   "metadata": {},
   "outputs": [
    {
     "data": {
      "text/plain": [
       "<matplotlib.legend.Legend at 0x26d767b28d0>"
      ]
     },
     "execution_count": 17,
     "metadata": {},
     "output_type": "execute_result"
    },
    {
     "data": {
      "image/png": "[encoded data removed]",
      "text/plain": [
       "<Figure size 432x288 with 1 Axes>"
      ]
     },
     "metadata": {
      "needs_background": "light"
     },
     "output_type": "display_data"
    }
   ],
   "source": [
    "plt.scatter(tempo, magnitude, color = '#70c9d5', label = 'V')    \n",
    "plt.plot(tempo, arvore, color=\"red\", label = \"Árvore de Decisão\")\n",
    "plt.gca().invert_yaxis()\n",
    "\n",
    "plt.title('Fotometria SN2004gs')\n",
    "plt.xlabel('Tempo')\n",
    "plt.ylabel('Magnitude')\n",
    "plt.legend()"
   ]
  },
  {
   "cell_type": "markdown",
   "metadata": {},
   "source": [
    "# Random Forest"
   ]
  },
  {
   "cell_type": "code",
   "execution_count": 18,
   "metadata": {},
   "outputs": [],
   "source": [
    "#Treino\n",
    "regressor = DecisionTreeRegressor()\n",
    "regressor.fit(xTrain.reshape(-1, 1), yTrain)\n",
    "\n",
    "regressor = RandomForestRegressor(n_estimators = 100)\n",
    "regressor.fit(xTrain.reshape(-1, 1), yTrain)\n",
    "    \n",
    "#predição\n",
    "forest = regressor.predict(xPredict.reshape(-1, 1))"
   ]
  },
  {
   "cell_type": "markdown",
   "metadata": {},
   "source": [
    "Cálculo do erro"
   ]
  },
  {
   "cell_type": "code",
   "execution_count": 19,
   "metadata": {},
   "outputs": [
    {
     "name": "stdout",
     "output_type": "stream",
     "text": [
      "0.0015062627029412325\n"
     ]
    }
   ],
   "source": [
    "eForest = mean_squared_error(magnitude[0:totalDeDiasReais + diasASimular], forest)\n",
    "print(eForest)"
   ]
  },
  {
   "cell_type": "markdown",
   "metadata": {},
   "source": [
    "Gráfico"
   ]
  },
  {
   "cell_type": "code",
   "execution_count": 20,
   "metadata": {},
   "outputs": [
    {
     "data": {
      "text/plain": [
       "<matplotlib.legend.Legend at 0x26d7673bf28>"
      ]
     },
     "execution_count": 20,
     "metadata": {},
     "output_type": "execute_result"
    },
    {
     "data": {
      "image/png": "[encoded data removed]",
      "text/plain": [
       "<Figure size 432x288 with 1 Axes>"
      ]
     },
     "metadata": {
      "needs_background": "light"
     },
     "output_type": "display_data"
    }
   ],
   "source": [
    "plt.scatter(tempo, magnitude, color = '#70c9d5', label = 'V')    \n",
    "plt.plot(tempo, forest, color=\"red\", label = \"Random Forest\")\n",
    "plt.gca().invert_yaxis()\n",
    "\n",
    "plt.title('Fotometria SN2004gs')\n",
    "plt.xlabel('Tempo')\n",
    "plt.ylabel('Magnitude')\n",
    "plt.legend()"
   ]
  },
  {
   "cell_type": "markdown",
   "metadata": {},
   "source": [
    "# Resultado"
   ]
  },
  {
   "cell_type": "code",
   "execution_count": 21,
   "metadata": {},
   "outputs": [
    {
     "name": "stdout",
     "output_type": "stream",
     "text": [
      "O algoritmo que obteve melhor resultado é a  Arvore de Decisão\n",
      "O valor do erro foi de  0.0\n"
     ]
    }
   ],
   "source": [
    "erro_list = [(\"Regressão Linear\", eLinear), (\"Regressão Polinomial de Grau 2\", eGrau2), (\"Regressão Polinomial de Grau 3\", eGrau3), (\"Arvore de Decisão\", eArvore), (\"Random Forest\", eForest)]\n",
    "algoritmo, erro =  min(erro_list)\n",
    "print(\"O algoritmo que obteve melhor resultado é a \", algoritmo)\n",
    "print(\"O valor do erro foi de \", erro)"
   ]
  }
 ],
 "metadata": {
  "kernelspec": {
   "display_name": "Python 3",
   "language": "python",
   "name": "python3"
  },
  "language_info": {
   "codemirror_mode": {
    "name": "ipython",
    "version": 3
   },
   "file_extension": ".py",
   "mimetype": "text/x-python",
   "name": "python",
   "nbconvert_exporter": "python",
   "pygments_lexer": "ipython3",
   "version": "3.6.1"
  }
 },
 "nbformat": 4,
 "nbformat_minor": 4
}
