{
 "cells": [
  {
   "cell_type": "code",
   "execution_count": 1,
   "metadata": {
    "id": "E4XMlwY3gk5y"
   },
   "outputs": [],
   "source": [
    "from tensorflow.keras.models import Sequential # atualizado: tensorflow==2.0.0-beta1\n",
    "from tensorflow.keras.layers import Dense, Dropout, LSTM # atualizado: tensorflow==2.0.0-beta1\n",
    "from sklearn.preprocessing import MinMaxScaler\n",
    "import numpy as np\n",
    "import pandas as pd\n",
    "import matplotlib.pyplot as plt"
   ]
  },
  {
   "cell_type": "code",
   "execution_count": 2,
   "metadata": {},
   "outputs": [],
   "source": [
    "base = pd.read_csv('petr4_treinamento.csv')\n",
    "base = base.dropna()\n",
    "base_treinamento = base.iloc[:, 1:2].values "
   ]
  },
  {
   "cell_type": "code",
   "execution_count": 3,
   "metadata": {},
   "outputs": [],
   "source": [
    "normalizador = MinMaxScaler(feature_range=(0,1))\n",
    "base_treinamento_normalizada = normalizador.fit_transform(base_treinamento)"
   ]
  },
  {
   "cell_type": "code",
   "execution_count": 4,
   "metadata": {},
   "outputs": [],
   "source": [
    "previsores = []\n",
    "preco_real = []\n",
    "\n",
    "for i in range(90, 1242):\n",
    "    previsores.append(base_treinamento_normalizada[i-90:i, 0])\n",
    "    preco_real.append(base_treinamento_normalizada[i, 0])\n",
    "    \n",
    "previsores, preco_real = np.array(previsores), np.array(preco_real)\n",
    "\n",
    "previsores = np.reshape(previsores, (previsores.shape[0], previsores.shape[1], 1))"
   ]
  },
  {
   "cell_type": "code",
   "execution_count": 5,
   "metadata": {
    "id": "oJ9YUSttXC3c"
   },
   "outputs": [],
   "source": [
    "regressor = Sequential()\n",
    "\n",
    "regressor.add(LSTM(units=50, return_sequences=True, input_shape=(previsores.shape[1], 1)))\n",
    "regressor.add(Dropout(0.2))\n",
    "\n",
    "regressor.add(LSTM(units=50, return_sequences=True))\n",
    "regressor.add(Dropout(0.2))\n",
    "\n",
    "regressor.add(LSTM(units=50, return_sequences=True))\n",
    "regressor.add(Dropout(0.2))\n",
    "\n",
    "regressor.add(LSTM(units=50))\n",
    "regressor.add(Dropout(0.2))\n",
    "\n",
    "regressor.add(Dense(units=1))\n",
    "\n",
    "regressor.compile(optimizer='adam', loss='mean_squared_error')"
   ]
  },
  {
   "cell_type": "code",
   "execution_count": 7,
   "metadata": {
    "colab": {
     "base_uri": "https://localhost:8080/"
    },
    "id": "FWTyCKqHie_R",
    "outputId": "11a5ce28-0d6c-4704-c7a5-7012d476011a"
   },
   "outputs": [
    {
     "name": "stdout",
     "output_type": "stream",
     "text": [
      "Epoch 1/100\n",
      "36/36 [==============================] - 6s 49ms/step - loss: 4.9489e-04\n",
      "Epoch 2/100\n",
      "36/36 [==============================] - 2s 47ms/step - loss: 4.5593e-05\n",
      "Epoch 3/100\n",
      "36/36 [==============================] - 2s 47ms/step - loss: 3.4120e-05\n",
      "Epoch 4/100\n",
      "36/36 [==============================] - 2s 47ms/step - loss: 3.7145e-05\n",
      "Epoch 5/100\n",
      "36/36 [==============================] - 2s 47ms/step - loss: 2.9434e-05\n",
      "Epoch 6/100\n",
      "36/36 [==============================] - 2s 47ms/step - loss: 2.8181e-05\n",
      "Epoch 7/100\n",
      "36/36 [==============================] - 2s 47ms/step - loss: 2.6822e-05\n",
      "Epoch 8/100\n",
      "36/36 [==============================] - 2s 47ms/step - loss: 3.0731e-05\n",
      "Epoch 9/100\n",
      "36/36 [==============================] - 2s 47ms/step - loss: 2.8387e-05\n",
      "Epoch 10/100\n",
      "36/36 [==============================] - 2s 47ms/step - loss: 2.8270e-05\n",
      "Epoch 11/100\n",
      "36/36 [==============================] - 2s 47ms/step - loss: 2.6122e-05\n",
      "Epoch 12/100\n",
      "36/36 [==============================] - 2s 48ms/step - loss: 2.2424e-05\n",
      "Epoch 13/100\n",
      "36/36 [==============================] - 2s 48ms/step - loss: 2.6464e-05\n",
      "Epoch 14/100\n",
      "36/36 [==============================] - 2s 48ms/step - loss: 2.7877e-05\n",
      "Epoch 15/100\n",
      "36/36 [==============================] - 2s 48ms/step - loss: 1.9567e-05\n",
      "Epoch 16/100\n",
      "36/36 [==============================] - 2s 48ms/step - loss: 2.4015e-05\n",
      "Epoch 17/100\n",
      "36/36 [==============================] - 2s 48ms/step - loss: 1.9413e-05\n",
      "Epoch 18/100\n",
      "36/36 [==============================] - 2s 48ms/step - loss: 2.3592e-05\n",
      "Epoch 19/100\n",
      "36/36 [==============================] - 2s 48ms/step - loss: 2.6923e-05\n",
      "Epoch 20/100\n",
      "36/36 [==============================] - 2s 48ms/step - loss: 2.7610e-05\n",
      "Epoch 21/100\n",
      "36/36 [==============================] - 2s 48ms/step - loss: 2.2128e-05\n",
      "Epoch 22/100\n",
      "36/36 [==============================] - 2s 48ms/step - loss: 1.8567e-05\n",
      "Epoch 23/100\n",
      "36/36 [==============================] - 2s 47ms/step - loss: 1.7019e-05\n",
      "Epoch 24/100\n",
      "36/36 [==============================] - 2s 48ms/step - loss: 1.8223e-05\n",
      "Epoch 25/100\n",
      "36/36 [==============================] - 2s 47ms/step - loss: 1.7878e-05\n",
      "Epoch 26/100\n",
      "36/36 [==============================] - 2s 48ms/step - loss: 1.9857e-05\n",
      "Epoch 27/100\n",
      "36/36 [==============================] - 2s 48ms/step - loss: 2.0796e-05\n",
      "Epoch 28/100\n",
      "36/36 [==============================] - 2s 47ms/step - loss: 1.6415e-05\n",
      "Epoch 29/100\n",
      "36/36 [==============================] - 2s 48ms/step - loss: 1.7541e-05\n",
      "Epoch 30/100\n",
      "36/36 [==============================] - 2s 48ms/step - loss: 1.7224e-05\n",
      "Epoch 31/100\n",
      "36/36 [==============================] - 2s 48ms/step - loss: 1.7824e-05\n",
      "Epoch 32/100\n",
      "36/36 [==============================] - 2s 48ms/step - loss: 1.7244e-05\n",
      "Epoch 33/100\n",
      "36/36 [==============================] - 2s 48ms/step - loss: 1.8615e-05\n",
      "Epoch 34/100\n",
      "36/36 [==============================] - 2s 47ms/step - loss: 1.7347e-05\n",
      "Epoch 35/100\n",
      "36/36 [==============================] - 2s 48ms/step - loss: 1.5604e-05\n",
      "Epoch 36/100\n",
      "36/36 [==============================] - 2s 48ms/step - loss: 2.0404e-05\n",
      "Epoch 37/100\n",
      "36/36 [==============================] - 2s 48ms/step - loss: 1.5560e-05\n",
      "Epoch 38/100\n",
      "36/36 [==============================] - 2s 49ms/step - loss: 1.5048e-05\n",
      "Epoch 39/100\n",
      "36/36 [==============================] - 2s 49ms/step - loss: 1.8863e-05\n",
      "Epoch 40/100\n",
      "36/36 [==============================] - 2s 49ms/step - loss: 1.8230e-05\n",
      "Epoch 41/100\n",
      "36/36 [==============================] - 2s 49ms/step - loss: 1.5273e-05\n",
      "Epoch 42/100\n",
      "36/36 [==============================] - 2s 49ms/step - loss: 1.6415e-05\n",
      "Epoch 43/100\n",
      "36/36 [==============================] - 2s 48ms/step - loss: 1.5856e-05\n",
      "Epoch 44/100\n",
      "36/36 [==============================] - 2s 49ms/step - loss: 1.4827e-05\n",
      "Epoch 45/100\n",
      "36/36 [==============================] - 2s 48ms/step - loss: 1.3341e-05\n",
      "Epoch 46/100\n",
      "36/36 [==============================] - 2s 48ms/step - loss: 1.8180e-05\n",
      "Epoch 47/100\n",
      "36/36 [==============================] - 2s 48ms/step - loss: 1.7032e-05\n",
      "Epoch 48/100\n",
      "36/36 [==============================] - 2s 48ms/step - loss: 1.6582e-05\n",
      "Epoch 49/100\n",
      "36/36 [==============================] - 2s 49ms/step - loss: 1.5993e-05\n",
      "Epoch 50/100\n",
      "36/36 [==============================] - 2s 48ms/step - loss: 1.8623e-05\n",
      "Epoch 51/100\n",
      "36/36 [==============================] - 2s 48ms/step - loss: 1.6571e-05\n",
      "Epoch 52/100\n",
      "36/36 [==============================] - 2s 49ms/step - loss: 1.8009e-05\n",
      "Epoch 53/100\n",
      "36/36 [==============================] - 2s 48ms/step - loss: 1.5712e-05\n",
      "Epoch 54/100\n",
      "36/36 [==============================] - 2s 48ms/step - loss: 1.5346e-05\n",
      "Epoch 55/100\n",
      "36/36 [==============================] - 2s 49ms/step - loss: 1.8679e-05\n",
      "Epoch 56/100\n",
      "36/36 [==============================] - 2s 48ms/step - loss: 1.3521e-05\n",
      "Epoch 57/100\n",
      "36/36 [==============================] - 2s 49ms/step - loss: 1.4445e-05\n",
      "Epoch 58/100\n",
      "36/36 [==============================] - 2s 48ms/step - loss: 1.7500e-05\n",
      "Epoch 59/100\n",
      "36/36 [==============================] - 2s 49ms/step - loss: 1.3601e-05\n",
      "Epoch 60/100\n",
      "36/36 [==============================] - 2s 49ms/step - loss: 1.3608e-05\n",
      "Epoch 61/100\n",
      "36/36 [==============================] - 2s 48ms/step - loss: 1.3591e-05\n",
      "Epoch 62/100\n",
      "36/36 [==============================] - 2s 49ms/step - loss: 1.4494e-05\n",
      "Epoch 63/100\n",
      "36/36 [==============================] - 2s 49ms/step - loss: 1.4613e-05\n",
      "Epoch 64/100\n",
      "36/36 [==============================] - 2s 48ms/step - loss: 1.2370e-05\n",
      "Epoch 65/100\n",
      "36/36 [==============================] - 2s 49ms/step - loss: 1.4150e-05\n",
      "Epoch 66/100\n",
      "36/36 [==============================] - 2s 49ms/step - loss: 1.3637e-05\n",
      "Epoch 67/100\n",
      "36/36 [==============================] - 2s 49ms/step - loss: 1.6933e-05\n",
      "Epoch 68/100\n",
      "36/36 [==============================] - 2s 49ms/step - loss: 1.4443e-05\n",
      "Epoch 69/100\n",
      "36/36 [==============================] - 2s 48ms/step - loss: 1.4627e-05\n",
      "Epoch 70/100\n",
      "36/36 [==============================] - 2s 48ms/step - loss: 1.5152e-05\n",
      "Epoch 71/100\n",
      "36/36 [==============================] - 2s 49ms/step - loss: 2.3362e-05\n",
      "Epoch 72/100\n",
      "36/36 [==============================] - 2s 49ms/step - loss: 1.7930e-05\n",
      "Epoch 73/100\n",
      "36/36 [==============================] - 2s 49ms/step - loss: 1.5029e-05\n",
      "Epoch 74/100\n",
      "36/36 [==============================] - 2s 49ms/step - loss: 1.5425e-05\n",
      "Epoch 75/100\n",
      "36/36 [==============================] - 2s 49ms/step - loss: 1.6209e-05\n",
      "Epoch 76/100\n",
      "36/36 [==============================] - 2s 49ms/step - loss: 1.4892e-05\n",
      "Epoch 77/100\n",
      "36/36 [==============================] - 2s 49ms/step - loss: 1.2997e-05\n",
      "Epoch 78/100\n",
      "36/36 [==============================] - 2s 49ms/step - loss: 1.5951e-05\n",
      "Epoch 79/100\n",
      "36/36 [==============================] - 2s 49ms/step - loss: 1.7956e-05\n",
      "Epoch 80/100\n",
      "36/36 [==============================] - 2s 48ms/step - loss: 1.6861e-05\n",
      "Epoch 81/100\n",
      "36/36 [==============================] - 2s 49ms/step - loss: 2.0397e-05\n",
      "Epoch 82/100\n",
      "36/36 [==============================] - 2s 49ms/step - loss: 1.3258e-05\n",
      "Epoch 83/100\n",
      "36/36 [==============================] - 2s 49ms/step - loss: 1.1694e-05\n",
      "Epoch 84/100\n",
      "36/36 [==============================] - 2s 49ms/step - loss: 1.4357e-05\n",
      "Epoch 85/100\n",
      "36/36 [==============================] - 2s 48ms/step - loss: 1.2859e-05\n",
      "Epoch 86/100\n",
      "36/36 [==============================] - 2s 49ms/step - loss: 1.3427e-05\n",
      "Epoch 87/100\n",
      "36/36 [==============================] - 2s 49ms/step - loss: 1.6081e-05\n",
      "Epoch 88/100\n",
      "36/36 [==============================] - 2s 49ms/step - loss: 1.3394e-05\n",
      "Epoch 89/100\n",
      "36/36 [==============================] - 2s 48ms/step - loss: 1.2527e-05\n",
      "Epoch 90/100\n",
      "36/36 [==============================] - 2s 48ms/step - loss: 1.1249e-05\n",
      "Epoch 91/100\n",
      "36/36 [==============================] - 2s 49ms/step - loss: 1.2664e-05\n",
      "Epoch 92/100\n",
      "36/36 [==============================] - 2s 49ms/step - loss: 1.2990e-05\n",
      "Epoch 93/100\n",
      "36/36 [==============================] - 2s 49ms/step - loss: 1.4308e-05\n",
      "Epoch 94/100\n",
      "36/36 [==============================] - 2s 49ms/step - loss: 1.2212e-05\n",
      "Epoch 95/100\n",
      "36/36 [==============================] - 2s 49ms/step - loss: 1.1213e-05\n",
      "Epoch 96/100\n"
     ]
    },
    {
     "name": "stdout",
     "output_type": "stream",
     "text": [
      "36/36 [==============================] - 2s 49ms/step - loss: 1.3177e-05\n",
      "Epoch 97/100\n",
      "36/36 [==============================] - 2s 48ms/step - loss: 1.3632e-05\n",
      "Epoch 98/100\n",
      "36/36 [==============================] - 2s 49ms/step - loss: 1.3425e-05\n",
      "Epoch 99/100\n",
      "36/36 [==============================] - 2s 49ms/step - loss: 1.3672e-05\n",
      "Epoch 100/100\n",
      "36/36 [==============================] - 2s 49ms/step - loss: 1.2858e-05\n"
     ]
    },
    {
     "data": {
      "text/plain": [
       "<tensorflow.python.keras.callbacks.History at 0x13c717cc760>"
      ]
     },
     "execution_count": 7,
     "metadata": {},
     "output_type": "execute_result"
    }
   ],
   "source": [
    "regressor.fit(previsores, preco_real, epochs=100, batch_size=32)"
   ]
  },
  {
   "cell_type": "code",
   "execution_count": 8,
   "metadata": {},
   "outputs": [
    {
     "data": {
      "text/plain": [
       "412.14743"
      ]
     },
     "execution_count": 8,
     "metadata": {},
     "output_type": "execute_result"
    }
   ],
   "source": [
    "base_teste = pd.read_csv('petr4_teste.csv')\n",
    "preco_real_teste = base_teste.iloc[:, 1:2].values\n",
    "base_completa = pd.concat((base['Open'], base_teste['Open']), axis = 0)\n",
    "entradas = base_completa[len(base_completa) - len(base_teste) - 90:].values\n",
    "entradas = entradas.reshape(-1, 1)\n",
    "entradas = normalizador.transform(entradas)\n",
    "X_teste = []\n",
    "for i in range(90, 112):\n",
    "    X_teste.append(entradas[i-90:i, 0])\n",
    "    \n",
    "X_teste = np.array(X_teste)\n",
    "X_teste = np.reshape(X_teste, (X_teste.shape[0], X_teste.shape[1], 1))\n",
    "\n",
    "previsoes = regressor.predict(X_teste)\n",
    "previsoes = normalizador.inverse_transform(previsoes)\n",
    "\n",
    "previsoes.mean()"
   ]
  },
  {
   "cell_type": "code",
   "execution_count": 10,
   "metadata": {
    "colab": {
     "base_uri": "https://localhost:8080/",
     "height": 295
    },
    "id": "KsdlYzLt2amm",
    "outputId": "d4a76272-cbce-44f9-9ff4-54509990e427"
   },
   "outputs": [
    {
     "data": {
      "image/png": "[encoded data removed]",
      "text/plain": [
       "<Figure size 432x288 with 1 Axes>"
      ]
     },
     "metadata": {
      "needs_background": "light"
     },
     "output_type": "display_data"
    }
   ],
   "source": [
    "plt.plot(preco_real_teste, color='red', label='Ações reais da Petrobras')\n",
    "plt.plot(previsoes, color='blue', label='Ações preditas pelo modelo')\n",
    "plt.title(\"Predição das Ações da Petrobras\")\n",
    "plt.xlabel(\"Tempo\")\n",
    "plt.ylabel(\"Preço\")\n",
    "plt.legend()\n",
    "\n",
    "plt.show()"
   ]
  },
  {
   "cell_type": "code",
   "execution_count": 11,
   "metadata": {
    "colab": {
     "base_uri": "https://localhost:8080/"
    },
    "id": "6sqlIkWn24HO",
    "outputId": "6f13a3e9-3682-456f-d2e4-70bffcff2223"
   },
   "outputs": [
    {
     "data": {
      "text/plain": [
       "354.3545275521434"
      ]
     },
     "execution_count": 11,
     "metadata": {},
     "output_type": "execute_result"
    }
   ],
   "source": [
    "import math\n",
    "from sklearn.metrics import mean_squared_error\n",
    "rmse = math.sqrt(mean_squared_error(preco_real_teste, previsoes))\n",
    "\n",
    "rmse"
   ]
  },
  {
   "cell_type": "code",
   "execution_count": null,
   "metadata": {},
   "outputs": [],
   "source": []
  }
 ],
 "metadata": {
  "colab": {
   "name": "RNN.ipynb",
   "provenance": []
  },
  "kernelspec": {
   "display_name": "Python 3",
   "language": "python",
   "name": "python3"
  },
  "language_info": {
   "codemirror_mode": {
    "name": "ipython",
    "version": 3
   },
   "file_extension": ".py",
   "mimetype": "text/x-python",
   "name": "python",
   "nbconvert_exporter": "python",
   "pygments_lexer": "ipython3",
   "version": "3.8.3"
  }
 },
 "nbformat": 4,
 "nbformat_minor": 1
}
