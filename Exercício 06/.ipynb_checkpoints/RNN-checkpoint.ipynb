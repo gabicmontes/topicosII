{
 "cells": [
  {
   "cell_type": "code",
   "execution_count": null,
   "metadata": {
    "id": "E4XMlwY3gk5y"
   },
   "outputs": [],
   "source": [
    "import numpy as np\n",
    "import matplotlib.pyplot as plt\n",
    "import pandas as pd"
   ]
  },
  {
   "cell_type": "markdown",
   "metadata": {
    "id": "eyiBhdsQ_BW2"
   },
   "source": [
    "Base de dados de treino: https://docs.google.com/spreadsheets/d/14CmvCFprVEaC3YQpVXpsgaVRe2uQvIgznILUtCRMwLY/edit?usp=sharing\n",
    "\n",
    "Base de dados de teste: https://docs.google.com/spreadsheets/d/1d-4xXSPIAkDOXC_XeDeBWUY5FXNt9syLh6Hknoc6-JY/edit?usp=sharing"
   ]
  },
  {
   "cell_type": "code",
   "execution_count": null,
   "metadata": {},
   "outputs": [],
   "source": [
    "base = pd.read_csv('auto.csv', encoding = 'ISO-8859-1')"
   ]
  },
  {
   "cell_type": "code",
   "execution_count": null,
   "metadata": {},
   "outputs": [],
   "source": [
    "base = base.drop('dateCrawled', axis = 1)\n",
    "base = base.drop('dateCreated', axis = 1)\n",
    "base = base.drop('nrOfPictures', axis = 1)\n",
    "base = base.drop('postalCode', axis = 1)\n",
    "base = base.drop('lastSeen', axis = 1)\n",
    "base = base.drop('name', axis = 1)\n",
    "base = base.drop('seller', axis = 1)\n",
    "base = base.drop('offerType', axis = 1)"
   ]
  },
  {
   "cell_type": "code",
   "execution_count": null,
   "metadata": {
    "colab": {
     "base_uri": "https://localhost:8080/"
    },
    "id": "i71n83YAiy5J",
    "outputId": "c4c75af3-8cb6-46d9-90db-b3956ca13b8f"
   },
   "outputs": [
    {
     "data": {
      "text/plain": [
       "numpy.ndarray"
      ]
     },
     "execution_count": 56,
     "metadata": {
      "tags": []
     },
     "output_type": "execute_result"
    }
   ],
   "source": [
    "dataset_train = pd.read_csv(\"Google_Stock_Price_Train.csv\")\n",
    "training_set = dataset_train.iloc[:, 1:2].values #cria um vetor do numpy contendo o valor das ações quando abriu"
   ]
  },
  {
   "cell_type": "code",
   "execution_count": null,
   "metadata": {
    "id": "x33XVva6jruV"
   },
   "outputs": [],
   "source": [
    "from sklearn.preprocessing import MinMaxScaler\n",
    "sc = MinMaxScaler(feature_range = (0, 1))\n",
    "\n",
    "training_set_scaled = sc.fit_transform(training_set)"
   ]
  },
  {
   "cell_type": "code",
   "execution_count": null,
   "metadata": {
    "colab": {
     "base_uri": "https://localhost:8080/"
    },
    "id": "TSYAVNcOPon6",
    "outputId": "4d214671-2280-4625-c93b-5280d00f1726"
   },
   "outputs": [
    {
     "data": {
      "text/plain": [
       "(1258, 1)"
      ]
     },
     "execution_count": 38,
     "metadata": {
      "tags": []
     },
     "output_type": "execute_result"
    }
   ],
   "source": [
    "training_set_scaled.shape"
   ]
  },
  {
   "cell_type": "code",
   "execution_count": null,
   "metadata": {
    "id": "Bnx2JGEOPjUE"
   },
   "outputs": [],
   "source": [
    "XTrain = []\n",
    "yTrain = []\n",
    "for i in range(60, training_set_scaled.shape[0]):\n",
    "  XTrain.append(training_set_scaled[i-60:i,0])\n",
    "  yTrain.append(training_set_scaled[i,0])\n",
    "\n",
    "XTrain, yTrain = np.array(XTrain), np.array(yTrain)"
   ]
  },
  {
   "cell_type": "code",
   "execution_count": null,
   "metadata": {
    "id": "B43C-N3ERm4p"
   },
   "outputs": [],
   "source": [
    "XTrain = np.reshape(XTrain, (XTrain.shape[0], XTrain.shape[1], 1))"
   ]
  },
  {
   "cell_type": "code",
   "execution_count": null,
   "metadata": {
    "id": "4MYDCp9ZU3zm"
   },
   "outputs": [],
   "source": [
    "from keras.models import Sequential\n",
    "from keras.layers import Dense\n",
    "from keras.layers import LSTM\n",
    "from keras.layers import Dropout\n",
    "\n",
    "regressor = Sequential()"
   ]
  },
  {
   "cell_type": "code",
   "execution_count": null,
   "metadata": {
    "id": "oJ9YUSttXC3c"
   },
   "outputs": [],
   "source": [
    "regressor.add(LSTM(units=50, return_sequences=True, input_shape=(XTrain.shape[1], 1)))\n",
    "regressor.add(Dropout(0.2))\n",
    "\n",
    "regressor.add(LSTM(units=50, return_sequences=True))\n",
    "regressor.add(Dropout(0.2))\n",
    "\n",
    "regressor.add(LSTM(units=50, return_sequences=True))\n",
    "regressor.add(Dropout(0.2))\n",
    "\n",
    "regressor.add(LSTM(units=50))\n",
    "regressor.add(Dropout(0.2))\n",
    "\n",
    "regressor.add(Dense(units=1))\n",
    "\n",
    "regressor.compile(optimizer='adam', loss='mean_squared_error')"
   ]
  },
  {
   "cell_type": "code",
   "execution_count": null,
   "metadata": {
    "colab": {
     "base_uri": "https://localhost:8080/"
    },
    "id": "FWTyCKqHie_R",
    "outputId": "11a5ce28-0d6c-4704-c7a5-7012d476011a"
   },
   "outputs": [
    {
     "name": "stdout",
     "output_type": "stream",
     "text": [
      "Epoch 1/100\n",
      "38/38 [==============================] - 10s 108ms/step - loss: 0.0903\n",
      "Epoch 2/100\n",
      "38/38 [==============================] - 4s 111ms/step - loss: 0.0079\n",
      "Epoch 3/100\n",
      "38/38 [==============================] - 4s 110ms/step - loss: 0.0069\n",
      "Epoch 4/100\n",
      "38/38 [==============================] - 4s 114ms/step - loss: 0.0050\n",
      "Epoch 5/100\n",
      "38/38 [==============================] - 4s 114ms/step - loss: 0.0055\n",
      "Epoch 6/100\n",
      "38/38 [==============================] - 4s 114ms/step - loss: 0.0056\n",
      "Epoch 7/100\n",
      "38/38 [==============================] - 4s 113ms/step - loss: 0.0052\n",
      "Epoch 8/100\n",
      "38/38 [==============================] - 4s 115ms/step - loss: 0.0052\n",
      "Epoch 9/100\n",
      "38/38 [==============================] - 4s 114ms/step - loss: 0.0038\n",
      "Epoch 10/100\n",
      "38/38 [==============================] - 4s 115ms/step - loss: 0.0041\n",
      "Epoch 11/100\n",
      "38/38 [==============================] - 4s 113ms/step - loss: 0.0047\n",
      "Epoch 12/100\n",
      "38/38 [==============================] - 4s 113ms/step - loss: 0.0044\n",
      "Epoch 13/100\n",
      "38/38 [==============================] - 4s 110ms/step - loss: 0.0040\n",
      "Epoch 14/100\n",
      "38/38 [==============================] - 4s 109ms/step - loss: 0.0037\n",
      "Epoch 15/100\n",
      "38/38 [==============================] - 4s 107ms/step - loss: 0.0043\n",
      "Epoch 16/100\n",
      "38/38 [==============================] - 4s 105ms/step - loss: 0.0038\n",
      "Epoch 17/100\n",
      "38/38 [==============================] - 4s 104ms/step - loss: 0.0042\n",
      "Epoch 18/100\n",
      "38/38 [==============================] - 4s 109ms/step - loss: 0.0040\n",
      "Epoch 19/100\n",
      "38/38 [==============================] - 4s 111ms/step - loss: 0.0032\n",
      "Epoch 20/100\n",
      "38/38 [==============================] - 4s 103ms/step - loss: 0.0045\n",
      "Epoch 21/100\n",
      "38/38 [==============================] - 4s 103ms/step - loss: 0.0040\n",
      "Epoch 22/100\n",
      "38/38 [==============================] - 4s 104ms/step - loss: 0.0033\n",
      "Epoch 23/100\n",
      "38/38 [==============================] - 4s 106ms/step - loss: 0.0033\n",
      "Epoch 24/100\n",
      "38/38 [==============================] - 4s 104ms/step - loss: 0.0035\n",
      "Epoch 25/100\n",
      "38/38 [==============================] - 4s 105ms/step - loss: 0.0030\n",
      "Epoch 26/100\n",
      "38/38 [==============================] - 4s 105ms/step - loss: 0.0031\n",
      "Epoch 27/100\n",
      "38/38 [==============================] - 4s 105ms/step - loss: 0.0032\n",
      "Epoch 28/100\n",
      "38/38 [==============================] - 4s 106ms/step - loss: 0.0030\n",
      "Epoch 29/100\n",
      "38/38 [==============================] - 4s 104ms/step - loss: 0.0032\n",
      "Epoch 30/100\n",
      "38/38 [==============================] - 4s 105ms/step - loss: 0.0028\n",
      "Epoch 31/100\n",
      "38/38 [==============================] - 4s 105ms/step - loss: 0.0035\n",
      "Epoch 32/100\n",
      "38/38 [==============================] - 4s 104ms/step - loss: 0.0032\n",
      "Epoch 33/100\n",
      "38/38 [==============================] - 4s 106ms/step - loss: 0.0024\n",
      "Epoch 34/100\n",
      "38/38 [==============================] - 4s 109ms/step - loss: 0.0026\n",
      "Epoch 35/100\n",
      "38/38 [==============================] - 4s 117ms/step - loss: 0.0027\n",
      "Epoch 36/100\n",
      "38/38 [==============================] - 4s 116ms/step - loss: 0.0026\n",
      "Epoch 37/100\n",
      "38/38 [==============================] - 4s 113ms/step - loss: 0.0032\n",
      "Epoch 38/100\n",
      "38/38 [==============================] - 4s 109ms/step - loss: 0.0023\n",
      "Epoch 39/100\n",
      "38/38 [==============================] - 4s 110ms/step - loss: 0.0027\n",
      "Epoch 40/100\n",
      "38/38 [==============================] - 4s 110ms/step - loss: 0.0022\n",
      "Epoch 41/100\n",
      "38/38 [==============================] - 4s 113ms/step - loss: 0.0027\n",
      "Epoch 42/100\n",
      "38/38 [==============================] - 4s 113ms/step - loss: 0.0024\n",
      "Epoch 43/100\n",
      "38/38 [==============================] - 4s 113ms/step - loss: 0.0024\n",
      "Epoch 44/100\n",
      "38/38 [==============================] - 5s 119ms/step - loss: 0.0027\n",
      "Epoch 45/100\n",
      "38/38 [==============================] - 5s 119ms/step - loss: 0.0024\n",
      "Epoch 46/100\n",
      "38/38 [==============================] - 4s 116ms/step - loss: 0.0027\n",
      "Epoch 47/100\n",
      "38/38 [==============================] - 4s 117ms/step - loss: 0.0034\n",
      "Epoch 48/100\n",
      "38/38 [==============================] - 4s 117ms/step - loss: 0.0026\n",
      "Epoch 49/100\n",
      "38/38 [==============================] - 4s 117ms/step - loss: 0.0022\n",
      "Epoch 50/100\n",
      "38/38 [==============================] - 4s 117ms/step - loss: 0.0021\n",
      "Epoch 51/100\n",
      "38/38 [==============================] - 4s 116ms/step - loss: 0.0027\n",
      "Epoch 52/100\n",
      "38/38 [==============================] - 4s 116ms/step - loss: 0.0022\n",
      "Epoch 53/100\n",
      "38/38 [==============================] - 4s 116ms/step - loss: 0.0024\n",
      "Epoch 54/100\n",
      "38/38 [==============================] - 4s 116ms/step - loss: 0.0023\n",
      "Epoch 55/100\n",
      "38/38 [==============================] - 4s 118ms/step - loss: 0.0023\n",
      "Epoch 56/100\n",
      "38/38 [==============================] - 4s 118ms/step - loss: 0.0023\n",
      "Epoch 57/100\n",
      "38/38 [==============================] - 4s 116ms/step - loss: 0.0020\n",
      "Epoch 58/100\n",
      "38/38 [==============================] - 4s 117ms/step - loss: 0.0022\n",
      "Epoch 59/100\n",
      "38/38 [==============================] - 4s 105ms/step - loss: 0.0024\n",
      "Epoch 60/100\n",
      "38/38 [==============================] - 4s 101ms/step - loss: 0.0021\n",
      "Epoch 61/100\n",
      "38/38 [==============================] - 4s 103ms/step - loss: 0.0024\n",
      "Epoch 62/100\n",
      "38/38 [==============================] - 4s 107ms/step - loss: 0.0023\n",
      "Epoch 63/100\n",
      "38/38 [==============================] - 4s 103ms/step - loss: 0.0020\n",
      "Epoch 64/100\n",
      "38/38 [==============================] - 4s 104ms/step - loss: 0.0019\n",
      "Epoch 65/100\n",
      "38/38 [==============================] - 4s 102ms/step - loss: 0.0018\n",
      "Epoch 66/100\n",
      "38/38 [==============================] - 4s 104ms/step - loss: 0.0018\n",
      "Epoch 67/100\n",
      "38/38 [==============================] - 4s 104ms/step - loss: 0.0018\n",
      "Epoch 68/100\n",
      "38/38 [==============================] - 4s 104ms/step - loss: 0.0019\n",
      "Epoch 69/100\n",
      "38/38 [==============================] - 4s 106ms/step - loss: 0.0022\n",
      "Epoch 70/100\n",
      "38/38 [==============================] - 4s 109ms/step - loss: 0.0017\n",
      "Epoch 71/100\n",
      "38/38 [==============================] - 4s 109ms/step - loss: 0.0019\n",
      "Epoch 72/100\n",
      "38/38 [==============================] - 4s 108ms/step - loss: 0.0018\n",
      "Epoch 73/100\n",
      "38/38 [==============================] - 4s 110ms/step - loss: 0.0018\n",
      "Epoch 74/100\n",
      "38/38 [==============================] - 4s 110ms/step - loss: 0.0018\n",
      "Epoch 75/100\n",
      "38/38 [==============================] - 4s 110ms/step - loss: 0.0022\n",
      "Epoch 76/100\n",
      "38/38 [==============================] - 4s 108ms/step - loss: 0.0020\n",
      "Epoch 77/100\n",
      "38/38 [==============================] - 4s 108ms/step - loss: 0.0018\n",
      "Epoch 78/100\n",
      "38/38 [==============================] - 4s 107ms/step - loss: 0.0017\n",
      "Epoch 79/100\n",
      "38/38 [==============================] - 4s 110ms/step - loss: 0.0017\n",
      "Epoch 80/100\n",
      "38/38 [==============================] - 4s 109ms/step - loss: 0.0015\n",
      "Epoch 81/100\n",
      "38/38 [==============================] - 4s 107ms/step - loss: 0.0017\n",
      "Epoch 82/100\n",
      "38/38 [==============================] - 4s 106ms/step - loss: 0.0017\n",
      "Epoch 83/100\n",
      "38/38 [==============================] - 4s 107ms/step - loss: 0.0018\n",
      "Epoch 84/100\n",
      "38/38 [==============================] - 4s 106ms/step - loss: 0.0018\n",
      "Epoch 85/100\n",
      "38/38 [==============================] - 4s 106ms/step - loss: 0.0018\n",
      "Epoch 86/100\n",
      "38/38 [==============================] - 4s 107ms/step - loss: 0.0014\n",
      "Epoch 87/100\n",
      "38/38 [==============================] - 4s 111ms/step - loss: 0.0016\n",
      "Epoch 88/100\n",
      "38/38 [==============================] - 4s 109ms/step - loss: 0.0017\n",
      "Epoch 89/100\n",
      "38/38 [==============================] - 4s 109ms/step - loss: 0.0015\n",
      "Epoch 90/100\n",
      "38/38 [==============================] - 4s 109ms/step - loss: 0.0014\n",
      "Epoch 91/100\n",
      "38/38 [==============================] - 4s 111ms/step - loss: 0.0016\n",
      "Epoch 92/100\n",
      "38/38 [==============================] - 4s 108ms/step - loss: 0.0013\n",
      "Epoch 93/100\n",
      "38/38 [==============================] - 4s 109ms/step - loss: 0.0014\n",
      "Epoch 94/100\n",
      "38/38 [==============================] - 4s 109ms/step - loss: 0.0014\n",
      "Epoch 95/100\n",
      "38/38 [==============================] - 4s 108ms/step - loss: 0.0015\n",
      "Epoch 96/100\n",
      "38/38 [==============================] - 4s 107ms/step - loss: 0.0017\n",
      "Epoch 97/100\n",
      "38/38 [==============================] - 4s 108ms/step - loss: 0.0014\n",
      "Epoch 98/100\n",
      "38/38 [==============================] - 4s 108ms/step - loss: 0.0014\n",
      "Epoch 99/100\n",
      "38/38 [==============================] - 4s 110ms/step - loss: 0.0015\n",
      "Epoch 100/100\n",
      "38/38 [==============================] - 4s 110ms/step - loss: 0.0014\n"
     ]
    },
    {
     "data": {
      "text/plain": [
       "<tensorflow.python.keras.callbacks.History at 0x7f65d399bad0>"
      ]
     },
     "execution_count": 43,
     "metadata": {
      "tags": []
     },
     "output_type": "execute_result"
    }
   ],
   "source": [
    "regressor.fit(XTrain, yTrain, epochs=100, batch_size=32)"
   ]
  },
  {
   "cell_type": "code",
   "execution_count": null,
   "metadata": {
    "id": "urB6c20bv0dl"
   },
   "outputs": [],
   "source": [
    "dataset_test = pd.read_csv(\"Google_Stock_Price_Test.csv\")\n",
    "real_stock_price = dataset_test.iloc[:, 1:2].values"
   ]
  },
  {
   "cell_type": "code",
   "execution_count": null,
   "metadata": {
    "id": "WzCjzFh9yadh"
   },
   "outputs": [],
   "source": [
    "dataset_total = pd.concat((dataset_train['Open'], dataset_test['Open']), axis=0)\n",
    "inputs = dataset_total[len(dataset_total) - len(dataset_test) - 60:].values\n",
    "inputs = inputs.reshape(-1, 1)\n",
    "inputs = sc.transform(inputs)"
   ]
  },
  {
   "cell_type": "code",
   "execution_count": null,
   "metadata": {
    "id": "cJfko0cfzdQJ"
   },
   "outputs": [],
   "source": [
    "XTest = []\n",
    "for i in range(60, 80): #previsão para os próximos 20 dias\n",
    "  XTest.append(training_set_scaled[i-60:i,0])\n",
    "\n",
    "XTest = np.array(XTest)\n",
    "XTest = np.reshape(XTest, (XTest.shape[0], XTest.shape[1], 1))"
   ]
  },
  {
   "cell_type": "code",
   "execution_count": null,
   "metadata": {
    "id": "jfQfCvJy0Re_"
   },
   "outputs": [],
   "source": [
    "predicted_stock_price = regressor.predict(XTest)\n",
    "predicted_stock_price = sc.inverse_transform(predicted_stock_price)"
   ]
  },
  {
   "cell_type": "code",
   "execution_count": null,
   "metadata": {
    "colab": {
     "base_uri": "https://localhost:8080/",
     "height": 295
    },
    "id": "KsdlYzLt2amm",
    "outputId": "d4a76272-cbce-44f9-9ff4-54509990e427"
   },
   "outputs": [
    {
     "data": {
      "image/png": "[encoded data removed]",
      "text/plain": [
       "<Figure size 432x288 with 1 Axes>"
      ]
     },
     "metadata": {
      "needs_background": "light",
      "tags": []
     },
     "output_type": "display_data"
    }
   ],
   "source": [
    "plt.plot(real_stock_price, color='red', label='Ações reais do Google')\n",
    "plt.plot(predicted_stock_price, color='blue', label='Ações preditas pelo modelo')\n",
    "plt.title(\"Predição das Ações do Google\")\n",
    "plt.xlabel(\"Tempo\")\n",
    "plt.ylabel(\"Preço\")\n",
    "plt.legend()\n",
    "\n",
    "plt.show()"
   ]
  },
  {
   "cell_type": "code",
   "execution_count": null,
   "metadata": {
    "colab": {
     "base_uri": "https://localhost:8080/"
    },
    "id": "6sqlIkWn24HO",
    "outputId": "6f13a3e9-3682-456f-d2e4-70bffcff2223"
   },
   "outputs": [
    {
     "data": {
      "text/plain": [
       "487.7780723100338"
      ]
     },
     "execution_count": 65,
     "metadata": {
      "tags": []
     },
     "output_type": "execute_result"
    }
   ],
   "source": [
    "import math\n",
    "from sklearn.metrics import mean_squared_error\n",
    "rmse = math.sqrt(mean_squared_error(real_stock_price, predicted_stock_price))\n",
    "\n",
    "rmse"
   ]
  }
 ],
 "metadata": {
  "colab": {
   "name": "RNN.ipynb",
   "provenance": []
  },
  "kernelspec": {
   "display_name": "Python 3",
   "language": "python",
   "name": "python3"
  },
  "language_info": {
   "codemirror_mode": {
    "name": "ipython",
    "version": 3
   },
   "file_extension": ".py",
   "mimetype": "text/x-python",
   "name": "python",
   "nbconvert_exporter": "python",
   "pygments_lexer": "ipython3",
   "version": "3.8.3"
  }
 },
 "nbformat": 4,
 "nbformat_minor": 1
}
